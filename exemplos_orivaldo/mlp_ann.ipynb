{
  "nbformat": 4,
  "nbformat_minor": 0,
  "metadata": {
    "colab": {
      "name": "mlp_ann.ipynb",
      "version": "0.3.2",
      "provenance": [],
      "include_colab_link": true
    },
    "kernelspec": {
      "name": "python3",
      "display_name": "Python 3"
    }
  },
  "cells": [
    {
      "cell_type": "markdown",
      "metadata": {
        "id": "view-in-github",
        "colab_type": "text"
      },
      "source": [
        "[View in Colaboratory](https://colab.research.google.com/github/LuizFelipeLemon/machine_learning/blob/master/mlp_ann.ipynb)"
      ]
    },
    {
      "metadata": {
        "id": "05prIRvREx5w",
        "colab_type": "code",
        "colab": {}
      },
      "cell_type": "code",
      "source": [
        "# Artificial Neural Network\n",
        "# from https://www.superdatascience.com/machine-learning/ \n",
        "\n",
        "# Installing Theano\n",
        "# pip install --upgrade --no-deps git+git://github.com/Theano/Theano.git\n",
        "\n",
        "# Installing Tensorflow\n",
        "# Install Tensorflow from the website: https://www.tensorflow.org/versions/r0.12/get_started/os_setup.html\n",
        "\n",
        "# Installing Keras\n",
        "# pip install --upgrade keras\n",
        "\n",
        "# Part 1 - Data Preprocessing\n",
        "\n",
        "# Importing the libraries\n",
        "import numpy as np\n",
        "import matplotlib.pyplot as plt\n",
        "import pandas as pd"
      ],
      "execution_count": 0,
      "outputs": []
    },
    {
      "metadata": {
        "id": "9Pz5xpoxrYqo",
        "colab_type": "code",
        "colab": {
          "base_uri": "https://localhost:8080/",
          "height": 34
        },
        "outputId": "9169e468-8c56-4b23-91e1-68e21e715385"
      },
      "cell_type": "code",
      "source": [
        "print(\"Teste\")"
      ],
      "execution_count": 3,
      "outputs": [
        {
          "output_type": "stream",
          "text": [
            "Teste\n"
          ],
          "name": "stdout"
        }
      ]
    },
    {
      "metadata": {
        "id": "Azdpya1yGBi7",
        "colab_type": "code",
        "colab": {
          "base_uri": "https://localhost:8080/",
          "height": 34
        },
        "outputId": "bc543cf1-4d65-4dcf-c34a-0dd7b104849e"
      },
      "cell_type": "code",
      "source": [
        "import os\n",
        "import tarfile\n",
        "from six.moves import urllib\n",
        "\n",
        "FILE_TO_DOWNLOAD =  \"Churn_Modelling.csv\"\n",
        "DOWNLOAD_ROOT = \"https://github.com/ect-info/ml/raw/master/\"\n",
        "DATA_PATH = \"dados/\"\n",
        "DATA_URL = DOWNLOAD_ROOT + DATA_PATH + FILE_TO_DOWNLOAD\n",
        "\n",
        "def fetch_data(data_url=DATA_URL, data_path=DATA_PATH, file_to_download=FILE_TO_DOWNLOAD):\n",
        "  if not os.path.isdir(data_path):\n",
        "    os.makedirs(data_path)\n",
        "  urllib.request.urlretrieve(data_url, data_path+file_to_download)\n",
        "  \n",
        "  \n",
        "fetch_data()\n",
        "\n",
        "# observando se o diretório datasets foi criado com sucesso \n",
        "!ls dados"
      ],
      "execution_count": 4,
      "outputs": [
        {
          "output_type": "stream",
          "text": [
            "Churn_Modelling.csv\n"
          ],
          "name": "stdout"
        }
      ]
    },
    {
      "metadata": {
        "id": "3ty937PWG8mp",
        "colab_type": "code",
        "colab": {
          "base_uri": "https://localhost:8080/",
          "height": 224
        },
        "outputId": "09b86fff-066f-406a-96f2-71893fff645e"
      },
      "cell_type": "code",
      "source": [
        "# Importing the dataset\n",
        "dataset = pd.read_csv(DATA_PATH+'Churn_Modelling.csv')\n",
        "\n",
        "\n",
        "dataset.head(  )"
      ],
      "execution_count": 5,
      "outputs": [
        {
          "output_type": "execute_result",
          "data": {
            "text/html": [
              "<div>\n",
              "<style scoped>\n",
              "    .dataframe tbody tr th:only-of-type {\n",
              "        vertical-align: middle;\n",
              "    }\n",
              "\n",
              "    .dataframe tbody tr th {\n",
              "        vertical-align: top;\n",
              "    }\n",
              "\n",
              "    .dataframe thead th {\n",
              "        text-align: right;\n",
              "    }\n",
              "</style>\n",
              "<table border=\"1\" class=\"dataframe\">\n",
              "  <thead>\n",
              "    <tr style=\"text-align: right;\">\n",
              "      <th></th>\n",
              "      <th>RowNumber</th>\n",
              "      <th>CustomerId</th>\n",
              "      <th>Surname</th>\n",
              "      <th>CreditScore</th>\n",
              "      <th>Geography</th>\n",
              "      <th>Gender</th>\n",
              "      <th>Age</th>\n",
              "      <th>Tenure</th>\n",
              "      <th>Balance</th>\n",
              "      <th>NumOfProducts</th>\n",
              "      <th>HasCrCard</th>\n",
              "      <th>IsActiveMember</th>\n",
              "      <th>EstimatedSalary</th>\n",
              "      <th>Exited</th>\n",
              "    </tr>\n",
              "  </thead>\n",
              "  <tbody>\n",
              "    <tr>\n",
              "      <th>0</th>\n",
              "      <td>1</td>\n",
              "      <td>15634602</td>\n",
              "      <td>Hargrave</td>\n",
              "      <td>619</td>\n",
              "      <td>France</td>\n",
              "      <td>Female</td>\n",
              "      <td>42</td>\n",
              "      <td>2</td>\n",
              "      <td>0.00</td>\n",
              "      <td>1</td>\n",
              "      <td>1</td>\n",
              "      <td>1</td>\n",
              "      <td>101348.88</td>\n",
              "      <td>1</td>\n",
              "    </tr>\n",
              "    <tr>\n",
              "      <th>1</th>\n",
              "      <td>2</td>\n",
              "      <td>15647311</td>\n",
              "      <td>Hill</td>\n",
              "      <td>608</td>\n",
              "      <td>Spain</td>\n",
              "      <td>Female</td>\n",
              "      <td>41</td>\n",
              "      <td>1</td>\n",
              "      <td>83807.86</td>\n",
              "      <td>1</td>\n",
              "      <td>0</td>\n",
              "      <td>1</td>\n",
              "      <td>112542.58</td>\n",
              "      <td>0</td>\n",
              "    </tr>\n",
              "    <tr>\n",
              "      <th>2</th>\n",
              "      <td>3</td>\n",
              "      <td>15619304</td>\n",
              "      <td>Onio</td>\n",
              "      <td>502</td>\n",
              "      <td>France</td>\n",
              "      <td>Female</td>\n",
              "      <td>42</td>\n",
              "      <td>8</td>\n",
              "      <td>159660.80</td>\n",
              "      <td>3</td>\n",
              "      <td>1</td>\n",
              "      <td>0</td>\n",
              "      <td>113931.57</td>\n",
              "      <td>1</td>\n",
              "    </tr>\n",
              "    <tr>\n",
              "      <th>3</th>\n",
              "      <td>4</td>\n",
              "      <td>15701354</td>\n",
              "      <td>Boni</td>\n",
              "      <td>699</td>\n",
              "      <td>France</td>\n",
              "      <td>Female</td>\n",
              "      <td>39</td>\n",
              "      <td>1</td>\n",
              "      <td>0.00</td>\n",
              "      <td>2</td>\n",
              "      <td>0</td>\n",
              "      <td>0</td>\n",
              "      <td>93826.63</td>\n",
              "      <td>0</td>\n",
              "    </tr>\n",
              "    <tr>\n",
              "      <th>4</th>\n",
              "      <td>5</td>\n",
              "      <td>15737888</td>\n",
              "      <td>Mitchell</td>\n",
              "      <td>850</td>\n",
              "      <td>Spain</td>\n",
              "      <td>Female</td>\n",
              "      <td>43</td>\n",
              "      <td>2</td>\n",
              "      <td>125510.82</td>\n",
              "      <td>1</td>\n",
              "      <td>1</td>\n",
              "      <td>1</td>\n",
              "      <td>79084.10</td>\n",
              "      <td>0</td>\n",
              "    </tr>\n",
              "  </tbody>\n",
              "</table>\n",
              "</div>"
            ],
            "text/plain": [
              "   RowNumber  CustomerId   Surname  CreditScore Geography  Gender  Age  \\\n",
              "0          1    15634602  Hargrave          619    France  Female   42   \n",
              "1          2    15647311      Hill          608     Spain  Female   41   \n",
              "2          3    15619304      Onio          502    France  Female   42   \n",
              "3          4    15701354      Boni          699    France  Female   39   \n",
              "4          5    15737888  Mitchell          850     Spain  Female   43   \n",
              "\n",
              "   Tenure    Balance  NumOfProducts  HasCrCard  IsActiveMember  \\\n",
              "0       2       0.00              1          1               1   \n",
              "1       1   83807.86              1          0               1   \n",
              "2       8  159660.80              3          1               0   \n",
              "3       1       0.00              2          0               0   \n",
              "4       2  125510.82              1          1               1   \n",
              "\n",
              "   EstimatedSalary  Exited  \n",
              "0        101348.88       1  \n",
              "1        112542.58       0  \n",
              "2        113931.57       1  \n",
              "3         93826.63       0  \n",
              "4         79084.10       0  "
            ]
          },
          "metadata": {
            "tags": []
          },
          "execution_count": 5
        }
      ]
    },
    {
      "metadata": {
        "id": "UB5JIxNDHb_N",
        "colab_type": "code",
        "colab": {
          "base_uri": "https://localhost:8080/",
          "height": 221
        },
        "outputId": "7081971c-68cb-4e81-9806-784b9132a7c8"
      },
      "cell_type": "code",
      "source": [
        "X = dataset.iloc[:,[3,6,7,8,9,10,11,12]].values\n",
        "y = dataset.iloc[:, 13].values\n",
        "\n",
        "print(X[0:6,:])"
      ],
      "execution_count": 6,
      "outputs": [
        {
          "output_type": "stream",
          "text": [
            "[[6.1900000e+02 4.2000000e+01 2.0000000e+00 0.0000000e+00 1.0000000e+00\n",
            "  1.0000000e+00 1.0000000e+00 1.0134888e+05]\n",
            " [6.0800000e+02 4.1000000e+01 1.0000000e+00 8.3807860e+04 1.0000000e+00\n",
            "  0.0000000e+00 1.0000000e+00 1.1254258e+05]\n",
            " [5.0200000e+02 4.2000000e+01 8.0000000e+00 1.5966080e+05 3.0000000e+00\n",
            "  1.0000000e+00 0.0000000e+00 1.1393157e+05]\n",
            " [6.9900000e+02 3.9000000e+01 1.0000000e+00 0.0000000e+00 2.0000000e+00\n",
            "  0.0000000e+00 0.0000000e+00 9.3826630e+04]\n",
            " [8.5000000e+02 4.3000000e+01 2.0000000e+00 1.2551082e+05 1.0000000e+00\n",
            "  1.0000000e+00 1.0000000e+00 7.9084100e+04]\n",
            " [6.4500000e+02 4.4000000e+01 8.0000000e+00 1.1375578e+05 2.0000000e+00\n",
            "  1.0000000e+00 0.0000000e+00 1.4975671e+05]]\n"
          ],
          "name": "stdout"
        }
      ]
    },
    {
      "metadata": {
        "id": "cfUAv8EkIR3L",
        "colab_type": "code",
        "colab": {}
      },
      "cell_type": "code",
      "source": [
        "# Splitting the dataset into the Training set and Test set\n",
        "from sklearn.model_selection import train_test_split\n",
        "X_train, X_test, y_train, y_test = train_test_split(X, y, test_size = 0.2, random_state = 0)"
      ],
      "execution_count": 0,
      "outputs": []
    },
    {
      "metadata": {
        "id": "h8r8fqguIVwD",
        "colab_type": "code",
        "colab": {}
      },
      "cell_type": "code",
      "source": [
        "# Feature Scaling\n",
        "from sklearn.preprocessing import StandardScaler\n",
        "sc = StandardScaler()\n",
        "X_train = sc.fit_transform(X_train)\n",
        "X_test = sc.transform(X_test)"
      ],
      "execution_count": 0,
      "outputs": []
    },
    {
      "metadata": {
        "id": "uopU5LIeIfcR",
        "colab_type": "code",
        "colab": {
          "base_uri": "https://localhost:8080/",
          "height": 34
        },
        "outputId": "62176f20-0ebd-4c4f-da70-ef699bb9a514"
      },
      "cell_type": "code",
      "source": [
        "# Part 2 - Now let's make the ANN!\n",
        "\n",
        "# Importing the Keras libraries and packages\n",
        "import keras\n",
        "from keras.models import Sequential\n",
        "from keras.layers import Dense\n",
        "\n",
        "# Initialising the ANN\n",
        "classifier = Sequential()"
      ],
      "execution_count": 9,
      "outputs": [
        {
          "output_type": "stream",
          "text": [
            "Using TensorFlow backend.\n"
          ],
          "name": "stderr"
        }
      ]
    },
    {
      "metadata": {
        "id": "0MfRhISVImRN",
        "colab_type": "code",
        "colab": {}
      },
      "cell_type": "code",
      "source": [
        "# Adding the input layer and the first hidden layer\n",
        "classifier.add(Dense( activation = 'relu', input_dim = 8, units = 16, kernel_initializer = 'uniform'))\n",
        "\n",
        "# Adding the second hidden layer\n",
        "classifier.add(Dense( activation = 'relu', units = 6, kernel_initializer = 'uniform' ))\n",
        "\n",
        "# Adding the output layer\n",
        "classifier.add(Dense( activation = 'sigmoid', units = 1, kernel_initializer = 'uniform'))"
      ],
      "execution_count": 0,
      "outputs": []
    },
    {
      "metadata": {
        "id": "AKQhs9A7P_8l",
        "colab_type": "code",
        "colab": {}
      },
      "cell_type": "code",
      "source": [
        "\n",
        "# Compiling the ANN\n",
        "classifier.compile(optimizer = 'adam', loss = 'binary_crossentropy', metrics = ['accuracy'])\n"
      ],
      "execution_count": 0,
      "outputs": []
    },
    {
      "metadata": {
        "id": "0P1F8Fe4QF8w",
        "colab_type": "code",
        "colab": {
          "base_uri": "https://localhost:8080/",
          "height": 1394
        },
        "outputId": "12638042-9ad6-4fa3-b7c0-d8141aec3f0e"
      },
      "cell_type": "code",
      "source": [
        "# Fitting the ANN to the Training set\n",
        "classifier.fit(X_train, y_train, batch_size = 10, epochs = 40)\n",
        "\n",
        "\n",
        "\n"
      ],
      "execution_count": 12,
      "outputs": [
        {
          "output_type": "stream",
          "text": [
            "Epoch 1/40\n",
            "8000/8000 [==============================] - 1s 169us/step - loss: 0.4750 - acc: 0.7960\n",
            "Epoch 2/40\n",
            "8000/8000 [==============================] - 1s 132us/step - loss: 0.4341 - acc: 0.7977\n",
            "Epoch 3/40\n",
            "8000/8000 [==============================] - 1s 136us/step - loss: 0.4271 - acc: 0.8220\n",
            "Epoch 4/40\n",
            "8000/8000 [==============================] - 1s 135us/step - loss: 0.4214 - acc: 0.8307\n",
            "Epoch 5/40\n",
            "8000/8000 [==============================] - 1s 135us/step - loss: 0.4174 - acc: 0.8312\n",
            "Epoch 6/40\n",
            "8000/8000 [==============================] - 1s 136us/step - loss: 0.4153 - acc: 0.8310\n",
            "Epoch 7/40\n",
            "8000/8000 [==============================] - 1s 136us/step - loss: 0.4136 - acc: 0.8302\n",
            "Epoch 8/40\n",
            "8000/8000 [==============================] - 1s 138us/step - loss: 0.4121 - acc: 0.8304\n",
            "Epoch 9/40\n",
            "8000/8000 [==============================] - 1s 141us/step - loss: 0.4112 - acc: 0.8314\n",
            "Epoch 10/40\n",
            "8000/8000 [==============================] - 1s 138us/step - loss: 0.4100 - acc: 0.8330\n",
            "Epoch 11/40\n",
            "8000/8000 [==============================] - 1s 138us/step - loss: 0.4092 - acc: 0.8322\n",
            "Epoch 12/40\n",
            "8000/8000 [==============================] - 1s 137us/step - loss: 0.4090 - acc: 0.8330\n",
            "Epoch 13/40\n",
            "8000/8000 [==============================] - 1s 138us/step - loss: 0.4088 - acc: 0.8306\n",
            "Epoch 14/40\n",
            "8000/8000 [==============================] - 1s 138us/step - loss: 0.4075 - acc: 0.8316\n",
            "Epoch 15/40\n",
            "8000/8000 [==============================] - 1s 138us/step - loss: 0.4077 - acc: 0.8314\n",
            "Epoch 16/40\n",
            "8000/8000 [==============================] - 1s 139us/step - loss: 0.4068 - acc: 0.8312\n",
            "Epoch 17/40\n",
            "8000/8000 [==============================] - 1s 136us/step - loss: 0.4071 - acc: 0.8319\n",
            "Epoch 18/40\n",
            "8000/8000 [==============================] - 1s 136us/step - loss: 0.4067 - acc: 0.8324\n",
            "Epoch 19/40\n",
            "8000/8000 [==============================] - 1s 138us/step - loss: 0.4058 - acc: 0.8317\n",
            "Epoch 20/40\n",
            "8000/8000 [==============================] - 1s 136us/step - loss: 0.4054 - acc: 0.8329\n",
            "Epoch 21/40\n",
            "8000/8000 [==============================] - 1s 136us/step - loss: 0.4059 - acc: 0.8317\n",
            "Epoch 22/40\n",
            "8000/8000 [==============================] - 1s 136us/step - loss: 0.4044 - acc: 0.8320\n",
            "Epoch 23/40\n",
            "8000/8000 [==============================] - 1s 137us/step - loss: 0.4039 - acc: 0.8337\n",
            "Epoch 24/40\n",
            "8000/8000 [==============================] - 1s 137us/step - loss: 0.4044 - acc: 0.8324\n",
            "Epoch 25/40\n",
            "8000/8000 [==============================] - 1s 137us/step - loss: 0.4035 - acc: 0.8340\n",
            "Epoch 26/40\n",
            "8000/8000 [==============================] - 1s 142us/step - loss: 0.4021 - acc: 0.8332\n",
            "Epoch 27/40\n",
            "8000/8000 [==============================] - 1s 137us/step - loss: 0.4001 - acc: 0.8346\n",
            "Epoch 28/40\n",
            "8000/8000 [==============================] - 1s 138us/step - loss: 0.3954 - acc: 0.8372\n",
            "Epoch 29/40\n",
            "8000/8000 [==============================] - 1s 136us/step - loss: 0.3891 - acc: 0.8415\n",
            "Epoch 30/40\n",
            "8000/8000 [==============================] - 1s 139us/step - loss: 0.3833 - acc: 0.8434\n",
            "Epoch 31/40\n",
            "8000/8000 [==============================] - 1s 138us/step - loss: 0.3787 - acc: 0.8469\n",
            "Epoch 32/40\n",
            "8000/8000 [==============================] - 1s 138us/step - loss: 0.3744 - acc: 0.8449\n",
            "Epoch 33/40\n",
            "8000/8000 [==============================] - 1s 136us/step - loss: 0.3709 - acc: 0.8476\n",
            "Epoch 34/40\n",
            "8000/8000 [==============================] - 1s 138us/step - loss: 0.3678 - acc: 0.8470\n",
            "Epoch 35/40\n",
            "8000/8000 [==============================] - 1s 137us/step - loss: 0.3654 - acc: 0.8499\n",
            "Epoch 36/40\n",
            "8000/8000 [==============================] - 1s 136us/step - loss: 0.3640 - acc: 0.8505\n",
            "Epoch 37/40\n",
            "8000/8000 [==============================] - 1s 136us/step - loss: 0.3618 - acc: 0.8494\n",
            "Epoch 38/40\n",
            "8000/8000 [==============================] - 1s 136us/step - loss: 0.3615 - acc: 0.8499\n",
            "Epoch 39/40\n",
            "8000/8000 [==============================] - 1s 136us/step - loss: 0.3592 - acc: 0.8504\n",
            "Epoch 40/40\n",
            "8000/8000 [==============================] - 1s 135us/step - loss: 0.3597 - acc: 0.8522\n"
          ],
          "name": "stdout"
        },
        {
          "output_type": "execute_result",
          "data": {
            "text/plain": [
              "<keras.callbacks.History at 0x7f3743f11b38>"
            ]
          },
          "metadata": {
            "tags": []
          },
          "execution_count": 12
        }
      ]
    },
    {
      "metadata": {
        "id": "IWx3PyWZSkpF",
        "colab_type": "code",
        "colab": {
          "base_uri": "https://localhost:8080/",
          "height": 34
        },
        "outputId": "7ef2a9f4-652a-40c7-f750-23ed924d660c"
      },
      "cell_type": "code",
      "source": [
        "# Part 3 - Making the predictions and evaluating the model\n",
        "\n",
        "# Predicting the Test set results\n",
        "y_pred = classifier.predict(X_test)\n",
        "y_pred = (y_pred > 0.5)\n",
        "\n",
        "# Making the Confusion Matrix\n",
        "from sklearn.metrics import confusion_matrix\n",
        "cm = confusion_matrix(y_test, y_pred)\n",
        "\n",
        "weights = classifier.layers[0].get_weights()[0]\n",
        "biases = classifier.layers[0].get_weights()[1]\n",
        "\n",
        "print(len(biases))\n",
        "\n",
        "#print(biases)"
      ],
      "execution_count": 13,
      "outputs": [
        {
          "output_type": "stream",
          "text": [
            "16\n"
          ],
          "name": "stdout"
        }
      ]
    },
    {
      "metadata": {
        "id": "Y2W85-LdSsiU",
        "colab_type": "code",
        "colab": {
          "base_uri": "https://localhost:8080/",
          "height": 156
        },
        "outputId": "a0e5fd6e-5538-4550-d180-c720e04ec875"
      },
      "cell_type": "code",
      "source": [
        "print(\"Matriz de Confusão:\")\n",
        "print(cm)\n",
        "print(\"Taxa de acerto:\")\n",
        "print((cm[0,0]+cm[1,1])/len(y_test) )\n",
        "print(len(y_test))\n",
        "print(classifier.layers[0].get_config())\n",
        "\n"
      ],
      "execution_count": 14,
      "outputs": [
        {
          "output_type": "stream",
          "text": [
            "Matriz de Confusão:\n",
            "[[1549   46]\n",
            " [ 231  174]]\n",
            "Taxa de acerto:\n",
            "0.8615\n",
            "2000\n",
            "{'name': 'dense_1', 'trainable': True, 'batch_input_shape': (None, 8), 'dtype': 'float32', 'units': 16, 'activation': 'relu', 'use_bias': True, 'kernel_initializer': {'class_name': 'RandomUniform', 'config': {'minval': -0.05, 'maxval': 0.05, 'seed': None}}, 'bias_initializer': {'class_name': 'Zeros', 'config': {}}, 'kernel_regularizer': None, 'bias_regularizer': None, 'activity_regularizer': None, 'kernel_constraint': None, 'bias_constraint': None}\n"
          ],
          "name": "stdout"
        }
      ]
    },
    {
      "metadata": {
        "id": "D_MCzYCP19Av",
        "colab_type": "code",
        "colab": {}
      },
      "cell_type": "code",
      "source": [
        "f= open(\"weights.txt\",\"w+\")\n",
        "f.write(str(len(classifier.layers))+' ')\n",
        "f.write(str(classifier.layers[0].get_config()['batch_input_shape'][1]))\n",
        "\n",
        "for i in range(3):\n",
        "  f.write('\\n'+str(classifier.layers[i].get_config()['units'])+',')\n",
        "  f.write(str(classifier.layers[i].get_config()['activation'])+'\\n')\n",
        "  luiz = np.array2string(classifier.layers[i].get_weights()[0], precision=4, separator=',',suppress_small=True)\n",
        "  f.write(luiz)\n",
        "f.close() \n"
      ],
      "execution_count": 0,
      "outputs": []
    },
    {
      "metadata": {
        "id": "5V2ssMLOAGYQ",
        "colab_type": "code",
        "colab": {
          "base_uri": "https://localhost:8080/",
          "height": 731
        },
        "outputId": "8d8685e0-f3ea-4278-f683-df6a808655b7"
      },
      "cell_type": "code",
      "source": [
        "f=open(\"weights.txt\", \"r\")\n",
        "if f.mode == 'r':\n",
        "  contents =f.read()\n",
        "  print(contents)"
      ],
      "execution_count": 26,
      "outputs": [
        {
          "output_type": "stream",
          "text": [
            "3 8\n",
            "16,relu\n",
            "[[ 0.0658, 0.0737, 0.0216, 0.0053,-0.2061,-0.1172,-0.0252, 0.0668, 0.1047,\n",
            "  -0.0133,-0.0267, 0.0116, 0.0505, 0.0009, 0.1032,-0.0047],\n",
            " [ 0.0024,-0.4632,-0.4087, 0.014 , 0.2657,-0.2286, 0.2794,-0.3538, 0.3012,\n",
            "  -0.0578,-0.2449, 0.0425,-0.3854, 0.1974,-0.5696,-0.2729],\n",
            " [-0.0767,-0.131 , 0.0855,-0.0065, 0.1058, 0.0554, 0.0124,-0.0489, 0.0113,\n",
            "  -0.0356, 0.0155, 0.022 ,-0.0205, 0.0154, 0.0226,-0.0132],\n",
            " [-0.4052,-0.0754, 0.0887,-0.0805,-0.2761,-0.2757,-0.0409,-0.0298, 0.1214,\n",
            "  -0.1027,-0.0499,-0.6543, 0.071 ,-0.0662, 0.1901,-0.2293],\n",
            " [ 0.099 ,-0.1393,-0.1438,-0.2232, 0.0004,-0.1882,-0.3229,-0.1843,-0.1737,\n",
            "  -0.228 ,-0.2042, 0.1035,-0.209 ,-0.2591,-0.0746,-1.2792],\n",
            " [-0.0606, 0.0165, 0.056 , 0.0169,-0.3283, 0.0047, 0.0289, 0.0895, 0.2433,\n",
            "  -0.0335,-0.0446, 0.0133,-0.0248, 0.0154,-0.0377, 0.0043],\n",
            " [ 0.5671, 0.0832,-0.0811,-0.0357, 0.3253,-0.2983, 0.7777,-0.1639, 0.4049,\n",
            "  -0.0272,-0.1235, 0.0366,-0.274 , 0.6531, 0.1661, 0.1062],\n",
            " [-0.0844, 0.0658,-0.0224, 0.0226,-0.3892,-0.0802, 0.0239, 0.0855,-0.0566,\n",
            "   0.045 , 0.0153, 0.0129,-0.0111, 0.0221, 0.0624, 0.0505]]\n",
            "6,relu\n",
            "[[ 0.388 , 0.3751, 0.3237, 0.3216,-0.0018, 0.2644],\n",
            " [ 0.1355, 0.206 , 0.2072, 0.2194,-0.0443,-0.2414],\n",
            " [ 0.1824, 0.1787, 0.1618, 0.1452,-0.0499,-0.4564],\n",
            " [ 0.2853, 0.2541, 0.3067, 0.229 , 0.0158,-0.1787],\n",
            " [ 0.3806, 0.3858, 0.3787, 0.4158,-0.0271, 0.214 ],\n",
            " [ 0.2012, 0.1813, 0.2343, 0.2097, 0.023 ,-0.2807],\n",
            " [ 0.489 , 0.5216, 0.5407, 0.5759,-0.0367,-0.3522],\n",
            " [ 0.2547, 0.2484, 0.2469, 0.2913, 0.0002,-0.3714],\n",
            " [ 0.3235, 0.2693, 0.2889, 0.2691, 0.0094,-0.0841],\n",
            " [ 0.2929, 0.3174, 0.259 , 0.3442,-0.0266,-0.2525],\n",
            " [ 0.2817, 0.3141, 0.31  , 0.3021,-0.043 ,-0.5389],\n",
            " [ 0.6348, 0.5766, 0.6218, 0.6451,-0.0028,-0.0452],\n",
            " [ 0.2215, 0.2405, 0.2793, 0.2758, 0.0318,-0.5436],\n",
            " [ 0.3788, 0.4021, 0.4051, 0.3273,-0.0328,-0.1705],\n",
            " [ 0.    ,-0.0588,-0.0039,-0.0224,-0.0339,-0.2256],\n",
            " [-0.6871,-0.6822,-0.6242,-0.7108,-0.002 , 0.8048]]\n",
            "1,sigmoid\n",
            "[[-0.4988],\n",
            " [-0.4872],\n",
            " [-0.471 ],\n",
            " [-0.5213],\n",
            " [ 0.0023],\n",
            " [ 2.377 ]]\n"
          ],
          "name": "stdout"
        }
      ]
    }
  ]
}