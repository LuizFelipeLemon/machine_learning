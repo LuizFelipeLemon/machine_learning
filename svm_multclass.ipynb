{
  "nbformat": 4,
  "nbformat_minor": 0,
  "metadata": {
    "colab": {
      "name": "svm_multclass.ipynb",
      "version": "0.3.2",
      "provenance": [],
      "collapsed_sections": [],
      "include_colab_link": true
    },
    "kernelspec": {
      "name": "python3",
      "display_name": "Python 3"
    }
  },
  "cells": [
    {
      "cell_type": "markdown",
      "metadata": {
        "id": "view-in-github",
        "colab_type": "text"
      },
      "source": [
        "[View in Colaboratory](https://colab.research.google.com/github/LuizFelipeLemon/machine_learning/blob/master/svm_multclass.ipynb)"
      ]
    },
    {
      "metadata": {
        "id": "vXnYcy6XnBCu",
        "colab_type": "code",
        "colab": {}
      },
      "cell_type": "code",
      "source": [
        "# Support Vector Machine (SVM)\n",
        "# from https://www.superdatascience.com/machine-learning/ \n",
        "\n",
        "\n",
        "# Part 1 - Data Preprocessing\n",
        "\n",
        "# Importing the libraries\n",
        "import numpy as np\n",
        "import matplotlib.pyplot as plt\n",
        "import pandas as pd\n",
        "import sklearn.metrics as m"
      ],
      "execution_count": 0,
      "outputs": []
    },
    {
      "metadata": {
        "id": "7bXJKKaAnPIE",
        "colab_type": "code",
        "colab": {}
      },
      "cell_type": "code",
      "source": [
        "import os\n",
        "import tarfile\n",
        "from six.moves import urllib\n",
        "\n",
        "FILE_TO_DOWNLOAD =  \"bla.csv\"\n",
        "DOWNLOAD_ROOT = \"https://raw.githubusercontent.com/GabrielVantuil/ECT2702-TAI/\"\n",
        "DATA_PATH = \"master/\"\n",
        "DATA_URL = DOWNLOAD_ROOT + DATA_PATH + FILE_TO_DOWNLOAD\n",
        "\n",
        "def fetch_data(data_url=DATA_URL, data_path=DATA_PATH, file_to_download=FILE_TO_DOWNLOAD):\n",
        "  if not os.path.isdir(data_path):\n",
        "    os.makedirs(data_path)\n",
        "  urllib.request.urlretrieve(data_url, data_path+file_to_download)\n",
        "  \n",
        "  \n",
        "fetch_data()\n",
        "\n",
        "# observando se o diretório datasets foi criado com sucesso "
      ],
      "execution_count": 0,
      "outputs": []
    },
    {
      "metadata": {
        "id": "_HE3vh8Hn7uS",
        "colab_type": "code",
        "colab": {
          "base_uri": "https://localhost:8080/",
          "height": 204
        },
        "outputId": "1bde6c20-0638-4756-aa44-aafed21a0178"
      },
      "cell_type": "code",
      "source": [
        "# Importing the dataset\n",
        "dataset = pd.read_csv(DATA_PATH+FILE_TO_DOWNLOAD)\n",
        "\n",
        "\n",
        "dataset.head(  )"
      ],
      "execution_count": 26,
      "outputs": [
        {
          "output_type": "execute_result",
          "data": {
            "text/html": [
              "<div>\n",
              "<style scoped>\n",
              "    .dataframe tbody tr th:only-of-type {\n",
              "        vertical-align: middle;\n",
              "    }\n",
              "\n",
              "    .dataframe tbody tr th {\n",
              "        vertical-align: top;\n",
              "    }\n",
              "\n",
              "    .dataframe thead th {\n",
              "        text-align: right;\n",
              "    }\n",
              "</style>\n",
              "<table border=\"1\" class=\"dataframe\">\n",
              "  <thead>\n",
              "    <tr style=\"text-align: right;\">\n",
              "      <th></th>\n",
              "      <th>R</th>\n",
              "      <th>G</th>\n",
              "      <th>B</th>\n",
              "      <th>cor</th>\n",
              "    </tr>\n",
              "  </thead>\n",
              "  <tbody>\n",
              "    <tr>\n",
              "      <th>0</th>\n",
              "      <td>32</td>\n",
              "      <td>42</td>\n",
              "      <td>28</td>\n",
              "      <td>2</td>\n",
              "    </tr>\n",
              "    <tr>\n",
              "      <th>1</th>\n",
              "      <td>32</td>\n",
              "      <td>42</td>\n",
              "      <td>28</td>\n",
              "      <td>2</td>\n",
              "    </tr>\n",
              "    <tr>\n",
              "      <th>2</th>\n",
              "      <td>32</td>\n",
              "      <td>42</td>\n",
              "      <td>28</td>\n",
              "      <td>2</td>\n",
              "    </tr>\n",
              "    <tr>\n",
              "      <th>3</th>\n",
              "      <td>32</td>\n",
              "      <td>42</td>\n",
              "      <td>28</td>\n",
              "      <td>2</td>\n",
              "    </tr>\n",
              "    <tr>\n",
              "      <th>4</th>\n",
              "      <td>32</td>\n",
              "      <td>42</td>\n",
              "      <td>28</td>\n",
              "      <td>2</td>\n",
              "    </tr>\n",
              "  </tbody>\n",
              "</table>\n",
              "</div>"
            ],
            "text/plain": [
              "    R   G   B  cor\n",
              "0  32  42  28    2\n",
              "1  32  42  28    2\n",
              "2  32  42  28    2\n",
              "3  32  42  28    2\n",
              "4  32  42  28    2"
            ]
          },
          "metadata": {
            "tags": []
          },
          "execution_count": 26
        }
      ]
    },
    {
      "metadata": {
        "id": "BttMH4I8oLj3",
        "colab_type": "code",
        "colab": {
          "base_uri": "https://localhost:8080/",
          "height": 71
        },
        "outputId": "f3b1eff7-7131-4ad7-96ae-29eb8e065208"
      },
      "cell_type": "code",
      "source": [
        "X = dataset.iloc[:,:3].values\n",
        "y = dataset.iloc[:,3].values\n",
        "\n",
        "noise = np.random.random_integers(-15, 15, size=(300, 3))\n",
        "X = X + noise\n",
        "\n",
        "#print(X)"
      ],
      "execution_count": 27,
      "outputs": [
        {
          "output_type": "stream",
          "text": [
            "/usr/local/lib/python3.6/dist-packages/ipykernel_launcher.py:4: DeprecationWarning: This function is deprecated. Please call randint(-15, 15 + 1) instead\n",
            "  after removing the cwd from sys.path.\n"
          ],
          "name": "stderr"
        }
      ]
    },
    {
      "metadata": {
        "id": "HRXZlPmDodVj",
        "colab_type": "code",
        "colab": {}
      },
      "cell_type": "code",
      "source": [
        "# Splitting the dataset into the Training set and Test set\n",
        "from sklearn.model_selection import train_test_split\n",
        "X_train, X_test, y_train, y_test = train_test_split(X, y, test_size = 0.25, random_state = 0)"
      ],
      "execution_count": 0,
      "outputs": []
    },
    {
      "metadata": {
        "id": "W230nzcgomuX",
        "colab_type": "code",
        "colab": {
          "base_uri": "https://localhost:8080/",
          "height": 71
        },
        "outputId": "2d86f84a-b665-4d4d-bd85-1243b89c1871"
      },
      "cell_type": "code",
      "source": [
        "# Feature Scaling\n",
        "from sklearn.preprocessing import StandardScaler\n",
        "sc = StandardScaler()\n",
        "X_train = sc.fit_transform(X_train)\n",
        "X_test = sc.transform(X_test)"
      ],
      "execution_count": 29,
      "outputs": [
        {
          "output_type": "stream",
          "text": [
            "/usr/local/lib/python3.6/dist-packages/sklearn/utils/validation.py:475: DataConversionWarning: Data with input dtype int64 was converted to float64 by StandardScaler.\n",
            "  warnings.warn(msg, DataConversionWarning)\n"
          ],
          "name": "stderr"
        }
      ]
    },
    {
      "metadata": {
        "id": "XkqnV-WRo4IH",
        "colab_type": "code",
        "colab": {
          "base_uri": "https://localhost:8080/",
          "height": 85
        },
        "outputId": "8ffebcf9-a532-4c7e-8b0d-b8768c62ea3a"
      },
      "cell_type": "code",
      "source": [
        "# Fitting SVM to the Training set\n",
        "#from sklearn.svm import SVC\n",
        "#classifier = SVC(kernel = 'linear', random_state = 0)\n",
        "#classifier = SVC(decision_function_shape='ovo')\n",
        "\n",
        "#classifier.fit(X_train, y_train)"
      ],
      "execution_count": 30,
      "outputs": [
        {
          "output_type": "execute_result",
          "data": {
            "text/plain": [
              "SVC(C=1.0, cache_size=200, class_weight=None, coef0=0.0,\n",
              "  decision_function_shape='ovo', degree=3, gamma='auto', kernel='rbf',\n",
              "  max_iter=-1, probability=False, random_state=None, shrinking=True,\n",
              "  tol=0.001, verbose=False)"
            ]
          },
          "metadata": {
            "tags": []
          },
          "execution_count": 30
        }
      ]
    },
    {
      "metadata": {
        "id": "SeeOpHyWWyVl",
        "colab_type": "code",
        "colab": {
          "base_uri": "https://localhost:8080/",
          "height": 68
        },
        "outputId": "3bffe282-e616-4972-9fa6-2cc4f7536a27"
      },
      "cell_type": "code",
      "source": [
        "# Fitting SVM to the Training set\n",
        "from sklearn.svm import SVC\n",
        "#classifier = SVC(kernel = 'linear', random_state = 0)\n",
        "classifier = SVC(decision_function_shape='ovo')\n",
        "\n",
        "classifier.fit(X_train, y_train)\n",
        "\n",
        "C_2d_range = np.logspace(-2,10,13)\n",
        "\n",
        "gamma_2d_range = np.logspace(-9,3,13)\n",
        "\n",
        "\n",
        "\n",
        "print(C_2d_range)\n",
        "classifiers = []\n",
        "\n",
        "\n",
        "for C in C_2d_range:\n",
        "    for gamma in gamma_2d_range:\n",
        "      \n",
        "        classifier = SVC(C=C, gamma=gamma)\n",
        "        classifier.fit(X_train, y_train)\n",
        "        \n",
        "        y_pred = classifier.predict(X_test)\n",
        "        \n",
        "        error = m.mean_squared_error(y_pred,y_test)\n",
        "        \n",
        "        \n",
        "        classifiers.append((C, gamma, error))        \n",
        "       \n",
        "print(len(classifiers))\n"
      ],
      "execution_count": 47,
      "outputs": [
        {
          "output_type": "stream",
          "text": [
            "[1.e-02 1.e-01 1.e+00 1.e+01 1.e+02 1.e+03 1.e+04 1.e+05 1.e+06 1.e+07\n",
            " 1.e+08 1.e+09 1.e+10]\n",
            "169\n"
          ],
          "name": "stdout"
        }
      ]
    },
    {
      "metadata": {
        "id": "rv7EeG6-cE4n",
        "colab_type": "code",
        "colab": {
          "base_uri": "https://localhost:8080/",
          "height": 54
        },
        "outputId": "b1f91579-3a74-4ccd-ff6d-3231c75f0003"
      },
      "cell_type": "code",
      "source": [
        "classifiers.sort(key = lambda x:x[2], reverse = False)\n",
        "print(classifiers)"
      ],
      "execution_count": 52,
      "outputs": [
        {
          "output_type": "stream",
          "text": [
            "[(100000000.0, 1e-08, 0.26666666666666666), (1000000000.0, 1e-08, 0.28), (10000000000.0, 1e-08, 0.28), (10000000000.0, 0.001, 0.30666666666666664), (10.0, 10.0, 0.3466666666666667), (100.0, 10.0, 0.3466666666666667), (1000.0, 10.0, 0.3466666666666667), (10000.0, 10.0, 0.3466666666666667), (100000.0, 10.0, 0.3466666666666667), (1000000.0, 10.0, 0.3466666666666667), (10000000.0, 1e-08, 0.3466666666666667), (10000000.0, 10.0, 0.3466666666666667), (100000000.0, 10.0, 0.3466666666666667), (1000000000.0, 10.0, 0.3466666666666667), (10000000000.0, 1e-06, 0.3466666666666667), (10000000000.0, 10.0, 0.3466666666666667), (1.0, 10.0, 0.37333333333333335), (100000000.0, 0.1, 0.37333333333333335), (1000000000.0, 0.1, 0.37333333333333335), (10000000000.0, 0.1, 0.37333333333333335), (10.0, 0.01, 0.38666666666666666), (100.0, 0.001, 0.38666666666666666), (1000.0, 0.0001, 0.38666666666666666), (1000.0, 0.001, 0.38666666666666666), (10000.0, 1e-05, 0.38666666666666666), (10000.0, 0.0001, 0.38666666666666666), (100000.0, 1e-06, 0.38666666666666666), (100000.0, 1e-05, 0.38666666666666666), (100000.0, 0.0001, 0.38666666666666666), (1000000.0, 1e-07, 0.38666666666666666), (1000000.0, 1e-05, 0.38666666666666666), (1000000.0, 0.1, 0.38666666666666666), (10000000.0, 1e-09, 0.38666666666666666), (1000000000.0, 1e-06, 0.38666666666666666), (1.0, 0.1, 0.4), (1000000.0, 1e-08, 0.4), (1000000.0, 1e-06, 0.4), (10000000.0, 1e-07, 0.4), (10000000.0, 1e-05, 0.4), (100000000.0, 1e-05, 0.4), (1000.0, 1.0, 0.41333333333333333), (100.0, 0.01, 0.44), (10000.0, 0.001, 0.44), (1.0, 0.01, 0.4533333333333333), (10000000.0, 0.0001, 0.4533333333333333), (100000000.0, 1e-09, 0.4533333333333333), (100000000.0, 0.0001, 0.4533333333333333), (1000000000.0, 1e-07, 0.4533333333333333), (1000000000.0, 1e-05, 0.4533333333333333), (10000000000.0, 1e-07, 0.4533333333333333), (10000000.0, 0.1, 0.4666666666666667), (100000000.0, 0.001, 0.4666666666666667), (10.0, 1.0, 0.49333333333333335), (100.0, 0.1, 0.49333333333333335), (100000.0, 0.01, 0.49333333333333335), (1000000.0, 0.0001, 0.49333333333333335), (10000000.0, 1e-06, 0.49333333333333335), (1.0, 1.0, 0.5066666666666667), (10.0, 0.001, 0.5066666666666667), (100.0, 0.0001, 0.5066666666666667), (1000.0, 1e-05, 0.5066666666666667), (10000.0, 1e-06, 0.5066666666666667), (100000.0, 1e-07, 0.5066666666666667), (1000000.0, 0.001, 0.5066666666666667), (10000000.0, 0.01, 0.5066666666666667), (100000000.0, 1e-07, 0.5066666666666667), (100000000.0, 1e-06, 0.5066666666666667), (10000000000.0, 1e-05, 0.5066666666666667), (0.1, 1.0, 0.52), (100.0, 1.0, 0.52), (10000.0, 1.0, 0.52), (100000.0, 1.0, 0.52), (1000000.0, 1.0, 0.52), (10000000.0, 0.001, 0.52), (10000000.0, 1.0, 0.52), (100000000.0, 0.01, 0.52), (100000000.0, 1.0, 0.52), (1000000000.0, 0.0001, 0.52), (1000000000.0, 0.001, 0.52), (1000000000.0, 1.0, 0.52), (10000000000.0, 0.0001, 0.52), (10000000000.0, 1.0, 0.52), (10.0, 0.1, 0.5466666666666666), (1000.0, 0.01, 0.5466666666666666), (1000.0, 0.1, 0.5466666666666666), (0.1, 0.1, 0.56), (10000.0, 0.01, 0.56), (100000.0, 0.001, 0.56), (1000000000.0, 1e-09, 0.56), (10000000000.0, 1e-09, 0.56), (100000.0, 0.1, 0.5733333333333334), (1000000.0, 0.01, 0.6133333333333333), (1000000000.0, 0.01, 0.6666666666666666), (10000.0, 0.1, 0.68), (10000000000.0, 0.01, 0.68), (100000.0, 1e-08, 0.92), (0.1, 0.01, 1.08), (1.0, 0.001, 1.08), (10.0, 0.0001, 1.08), (100.0, 1e-05, 1.08), (1000.0, 1e-06, 1.08), (10000.0, 1e-07, 1.08), (10.0, 100.0, 1.3733333333333333), (100.0, 100.0, 1.3733333333333333), (1000.0, 100.0, 1.3733333333333333), (10000.0, 100.0, 1.3733333333333333), (100000.0, 100.0, 1.3733333333333333), (1000000.0, 100.0, 1.3733333333333333), (10000000.0, 100.0, 1.3733333333333333), (100000000.0, 100.0, 1.3733333333333333), (1000000000.0, 100.0, 1.3733333333333333), (10000000000.0, 100.0, 1.3733333333333333), (1.0, 100.0, 1.4666666666666666), (0.01, 1e-09, 1.72), (0.01, 1e-08, 1.72), (0.01, 1e-07, 1.72), (0.01, 1e-06, 1.72), (0.01, 1e-05, 1.72), (0.01, 0.0001, 1.72), (0.01, 0.001, 1.72), (0.01, 0.01, 1.72), (0.01, 0.1, 1.72), (0.01, 1.0, 1.72), (0.01, 10.0, 1.72), (0.01, 100.0, 1.72), (0.01, 1000.0, 1.72), (0.1, 1e-09, 1.72), (0.1, 1e-08, 1.72), (0.1, 1e-07, 1.72), (0.1, 1e-06, 1.72), (0.1, 1e-05, 1.72), (0.1, 0.0001, 1.72), (0.1, 0.001, 1.72), (0.1, 10.0, 1.72), (0.1, 100.0, 1.72), (0.1, 1000.0, 1.72), (1.0, 1e-09, 1.72), (1.0, 1e-08, 1.72), (1.0, 1e-07, 1.72), (1.0, 1e-06, 1.72), (1.0, 1e-05, 1.72), (1.0, 0.0001, 1.72), (1.0, 1000.0, 1.72), (10.0, 1e-09, 1.72), (10.0, 1e-08, 1.72), (10.0, 1e-07, 1.72), (10.0, 1e-06, 1.72), (10.0, 1e-05, 1.72), (10.0, 1000.0, 1.72), (100.0, 1e-09, 1.72), (100.0, 1e-08, 1.72), (100.0, 1e-07, 1.72), (100.0, 1e-06, 1.72), (100.0, 1000.0, 1.72), (1000.0, 1e-09, 1.72), (1000.0, 1e-08, 1.72), (1000.0, 1e-07, 1.72), (1000.0, 1000.0, 1.72), (10000.0, 1e-09, 1.72), (10000.0, 1e-08, 1.72), (10000.0, 1000.0, 1.72), (100000.0, 1e-09, 1.72), (100000.0, 1000.0, 1.72), (1000000.0, 1e-09, 1.72), (1000000.0, 1000.0, 1.72), (10000000.0, 1000.0, 1.72), (100000000.0, 1000.0, 1.72), (1000000000.0, 1000.0, 1.72), (10000000000.0, 1000.0, 1.72)]\n"
          ],
          "name": "stdout"
        }
      ]
    },
    {
      "metadata": {
        "id": "dqRFOXolp_Pn",
        "colab_type": "code",
        "colab": {
          "base_uri": "https://localhost:8080/",
          "height": 51
        },
        "outputId": "96df5ec9-6ee8-4eea-d5d0-2e3509d4b6f7"
      },
      "cell_type": "code",
      "source": [
        "# Predicting the Test set results\n",
        "y_pred = classifier.predict(X_test)\n",
        "\n",
        "print(y_test[0:35])\n",
        "print(y_pred[0:35])"
      ],
      "execution_count": 53,
      "outputs": [
        {
          "output_type": "stream",
          "text": [
            "[0 1 2 0 0 1 0 0 2 1 0 2 1 0 2 2 0 2 0 1 1 1 1 1 0 1 1 0 0 0 2 2 2 1 0]\n",
            "[2 2 2 2 2 2 2 2 2 2 2 2 2 2 2 2 2 2 2 2 2 2 2 2 2 2 2 2 2 2 2 2 2 2 2]\n"
          ],
          "name": "stdout"
        }
      ]
    },
    {
      "metadata": {
        "id": "i92mEJ9_qx4u",
        "colab_type": "code",
        "colab": {
          "base_uri": "https://localhost:8080/",
          "height": 68
        },
        "outputId": "1bb9f3f9-400a-4be7-c179-869fe1dd27a8"
      },
      "cell_type": "code",
      "source": [
        "# Making the Confusion Matrix\n",
        "from sklearn.metrics import confusion_matrix\n",
        "cm = confusion_matrix(y_test, y_pred)\n",
        "\n",
        "print(cm)"
      ],
      "execution_count": 32,
      "outputs": [
        {
          "output_type": "stream",
          "text": [
            "[[24  0  2]\n",
            " [ 1 20  4]\n",
            " [ 7  1 16]]\n"
          ],
          "name": "stdout"
        }
      ]
    },
    {
      "metadata": {
        "id": "rTI5N_WGrHuT",
        "colab_type": "code",
        "colab": {
          "base_uri": "https://localhost:8080/",
          "height": 588
        },
        "outputId": "de000571-3960-4e44-e90e-aaabf9d64ddb"
      },
      "cell_type": "code",
      "source": [
        "# Visualising the Training set results\n",
        "from matplotlib.colors import ListedColormap\n",
        "X_set, y_set = X_train, y_train\n",
        "X1, X2 = np.meshgrid(np.arange(start = X_set[:, 0].min() - 1, stop = X_set[:, 0].max() + 1, step = 0.01),\n",
        "                     np.arange(start = X_set[:, 1].min() - 1, stop = X_set[:, 1].max() + 1, step = 0.01))\n",
        "plt.contourf(X1, X2, classifier.predict(np.array([X1.ravel(), X2.ravel()]).T).reshape(X1.shape),\n",
        "             alpha = 0.75, cmap = ListedColormap(('blue', 'green')))\n",
        "plt.xlim(X1.min(), X1.max())\n",
        "plt.ylim(X2.min(), X2.max())\n",
        "for i, j in enumerate(np.unique(y_set)):\n",
        "    plt.scatter(X_set[y_set == j, 0], X_set[y_set == j, 1],\n",
        "                c = ListedColormap(('red', 'green'))(i), label = j)\n",
        "plt.title('SVM (Training set)')\n",
        "plt.xlabel('Age')\n",
        "plt.ylabel('Estimated Salary')\n",
        "plt.legend()\n",
        "plt.show()"
      ],
      "execution_count": 33,
      "outputs": [
        {
          "output_type": "error",
          "ename": "ValueError",
          "evalue": "ignored",
          "traceback": [
            "\u001b[0;31m---------------------------------------------------------------------------\u001b[0m",
            "\u001b[0;31mValueError\u001b[0m                                Traceback (most recent call last)",
            "\u001b[0;32m<ipython-input-33-151ff58c3467>\u001b[0m in \u001b[0;36m<module>\u001b[0;34m()\u001b[0m\n\u001b[1;32m      3\u001b[0m X1, X2 = np.meshgrid(np.arange(start = X_set[:, 0].min() - 1, stop = X_set[:, 0].max() + 1, step = 0.01),\n\u001b[1;32m      4\u001b[0m                      np.arange(start = X_set[:, 1].min() - 1, stop = X_set[:, 1].max() + 1, step = 0.01))\n\u001b[0;32m----> 5\u001b[0;31m plt.contourf(X1, X2, classifier.predict(np.array([X1.ravel(), X2.ravel()]).T).reshape(X1.shape),\n\u001b[0m\u001b[1;32m      6\u001b[0m              alpha = 0.75, cmap = ListedColormap(('blue', 'green')))\n\u001b[1;32m      7\u001b[0m \u001b[0mplt\u001b[0m\u001b[0;34m.\u001b[0m\u001b[0mxlim\u001b[0m\u001b[0;34m(\u001b[0m\u001b[0mX1\u001b[0m\u001b[0;34m.\u001b[0m\u001b[0mmin\u001b[0m\u001b[0;34m(\u001b[0m\u001b[0;34m)\u001b[0m\u001b[0;34m,\u001b[0m \u001b[0mX1\u001b[0m\u001b[0;34m.\u001b[0m\u001b[0mmax\u001b[0m\u001b[0;34m(\u001b[0m\u001b[0;34m)\u001b[0m\u001b[0;34m)\u001b[0m\u001b[0;34m\u001b[0m\u001b[0m\n",
            "\u001b[0;32m/usr/local/lib/python3.6/dist-packages/sklearn/svm/base.py\u001b[0m in \u001b[0;36mpredict\u001b[0;34m(self, X)\u001b[0m\n\u001b[1;32m    546\u001b[0m             \u001b[0mClass\u001b[0m \u001b[0mlabels\u001b[0m \u001b[0;32mfor\u001b[0m \u001b[0msamples\u001b[0m \u001b[0;32min\u001b[0m \u001b[0mX\u001b[0m\u001b[0;34m.\u001b[0m\u001b[0;34m\u001b[0m\u001b[0m\n\u001b[1;32m    547\u001b[0m         \"\"\"\n\u001b[0;32m--> 548\u001b[0;31m         \u001b[0my\u001b[0m \u001b[0;34m=\u001b[0m \u001b[0msuper\u001b[0m\u001b[0;34m(\u001b[0m\u001b[0mBaseSVC\u001b[0m\u001b[0;34m,\u001b[0m \u001b[0mself\u001b[0m\u001b[0;34m)\u001b[0m\u001b[0;34m.\u001b[0m\u001b[0mpredict\u001b[0m\u001b[0;34m(\u001b[0m\u001b[0mX\u001b[0m\u001b[0;34m)\u001b[0m\u001b[0;34m\u001b[0m\u001b[0m\n\u001b[0m\u001b[1;32m    549\u001b[0m         \u001b[0;32mreturn\u001b[0m \u001b[0mself\u001b[0m\u001b[0;34m.\u001b[0m\u001b[0mclasses_\u001b[0m\u001b[0;34m.\u001b[0m\u001b[0mtake\u001b[0m\u001b[0;34m(\u001b[0m\u001b[0mnp\u001b[0m\u001b[0;34m.\u001b[0m\u001b[0masarray\u001b[0m\u001b[0;34m(\u001b[0m\u001b[0my\u001b[0m\u001b[0;34m,\u001b[0m \u001b[0mdtype\u001b[0m\u001b[0;34m=\u001b[0m\u001b[0mnp\u001b[0m\u001b[0;34m.\u001b[0m\u001b[0mintp\u001b[0m\u001b[0;34m)\u001b[0m\u001b[0;34m)\u001b[0m\u001b[0;34m\u001b[0m\u001b[0m\n\u001b[1;32m    550\u001b[0m \u001b[0;34m\u001b[0m\u001b[0m\n",
            "\u001b[0;32m/usr/local/lib/python3.6/dist-packages/sklearn/svm/base.py\u001b[0m in \u001b[0;36mpredict\u001b[0;34m(self, X)\u001b[0m\n\u001b[1;32m    306\u001b[0m         \u001b[0my_pred\u001b[0m \u001b[0;34m:\u001b[0m \u001b[0marray\u001b[0m\u001b[0;34m,\u001b[0m \u001b[0mshape\u001b[0m \u001b[0;34m(\u001b[0m\u001b[0mn_samples\u001b[0m\u001b[0;34m,\u001b[0m\u001b[0;34m)\u001b[0m\u001b[0;34m\u001b[0m\u001b[0m\n\u001b[1;32m    307\u001b[0m         \"\"\"\n\u001b[0;32m--> 308\u001b[0;31m         \u001b[0mX\u001b[0m \u001b[0;34m=\u001b[0m \u001b[0mself\u001b[0m\u001b[0;34m.\u001b[0m\u001b[0m_validate_for_predict\u001b[0m\u001b[0;34m(\u001b[0m\u001b[0mX\u001b[0m\u001b[0;34m)\u001b[0m\u001b[0;34m\u001b[0m\u001b[0m\n\u001b[0m\u001b[1;32m    309\u001b[0m         \u001b[0mpredict\u001b[0m \u001b[0;34m=\u001b[0m \u001b[0mself\u001b[0m\u001b[0;34m.\u001b[0m\u001b[0m_sparse_predict\u001b[0m \u001b[0;32mif\u001b[0m \u001b[0mself\u001b[0m\u001b[0;34m.\u001b[0m\u001b[0m_sparse\u001b[0m \u001b[0;32melse\u001b[0m \u001b[0mself\u001b[0m\u001b[0;34m.\u001b[0m\u001b[0m_dense_predict\u001b[0m\u001b[0;34m\u001b[0m\u001b[0m\n\u001b[1;32m    310\u001b[0m         \u001b[0;32mreturn\u001b[0m \u001b[0mpredict\u001b[0m\u001b[0;34m(\u001b[0m\u001b[0mX\u001b[0m\u001b[0;34m)\u001b[0m\u001b[0;34m\u001b[0m\u001b[0m\n",
            "\u001b[0;32m/usr/local/lib/python3.6/dist-packages/sklearn/svm/base.py\u001b[0m in \u001b[0;36m_validate_for_predict\u001b[0;34m(self, X)\u001b[0m\n\u001b[1;32m    457\u001b[0m             raise ValueError(\"X.shape[1] = %d should be equal to %d, \"\n\u001b[1;32m    458\u001b[0m                              \u001b[0;34m\"the number of features at training time\"\u001b[0m \u001b[0;34m%\u001b[0m\u001b[0;34m\u001b[0m\u001b[0m\n\u001b[0;32m--> 459\u001b[0;31m                              (n_features, self.shape_fit_[1]))\n\u001b[0m\u001b[1;32m    460\u001b[0m         \u001b[0;32mreturn\u001b[0m \u001b[0mX\u001b[0m\u001b[0;34m\u001b[0m\u001b[0m\n\u001b[1;32m    461\u001b[0m \u001b[0;34m\u001b[0m\u001b[0m\n",
            "\u001b[0;31mValueError\u001b[0m: X.shape[1] = 2 should be equal to 3, the number of features at training time"
          ]
        }
      ]
    }
  ]
}