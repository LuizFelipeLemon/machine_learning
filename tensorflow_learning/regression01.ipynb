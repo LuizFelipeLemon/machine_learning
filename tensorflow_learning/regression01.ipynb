{
  "nbformat": 4,
  "nbformat_minor": 0,
  "metadata": {
    "colab": {
      "name": "regression01",
      "provenance": [],
      "authorship_tag": "ABX9TyPSLBJeOcbpWRaJg6b7Pw0W",
      "include_colab_link": true
    },
    "kernelspec": {
      "name": "python3",
      "display_name": "Python 3"
    }
  },
  "cells": [
    {
      "cell_type": "markdown",
      "metadata": {
        "id": "view-in-github",
        "colab_type": "text"
      },
      "source": [
        "<a href=\"https://colab.research.google.com/github/LuizFelipeLemon/machine_learning/blob/master/tensorflow_learning/regression01.ipynb\" target=\"_parent\"><img src=\"https://colab.research.google.com/assets/colab-badge.svg\" alt=\"Open In Colab\"/></a>"
      ]
    },
    {
      "cell_type": "markdown",
      "metadata": {
        "id": "yHZ_pPdoCPvf",
        "colab_type": "text"
      },
      "source": [
        "# Regression\n",
        "Regression is one of the oldest tools for mathematical modeling, classification, and prediction, yet remains quite a powerful one. Regression finds application in varied fields ranging from engineering, physical science, biology, and the financial market, to the social sciences. It is a fundamental tool in the hands of statisticians and data scientists. "
      ]
    },
    {
      "cell_type": "markdown",
      "metadata": {
        "id": "rhKgq6Q_GJFF",
        "colab_type": "text"
      },
      "source": [
        "We import the necessary modules. It is a simple example so we'll be using only NumPy, pandas, and Matplotlib:\n"
      ]
    },
    {
      "cell_type": "code",
      "metadata": {
        "id": "tm05r196GISK",
        "colab_type": "code",
        "colab": {}
      },
      "source": [
        "import tensorflow as tf\n",
        "import numpy as np\n",
        "import matplotlib.pyplot as plt\n",
        "import pandas as pd"
      ],
      "execution_count": 0,
      "outputs": []
    },
    {
      "cell_type": "markdown",
      "metadata": {
        "id": "PF2iV1XDGNNU",
        "colab_type": "text"
      },
      "source": [
        "Next, we generate random data with a linear relationship. To make it more real we also add a random noise element. You can see the two variables (the cause: area, and the effect: price) follow a positive linear dependence:"
      ]
    },
    {
      "cell_type": "code",
      "metadata": {
        "id": "rpbiXwNxGQC8",
        "colab_type": "code",
        "colab": {
          "base_uri": "https://localhost:8080/",
          "height": 265
        },
        "outputId": "aef68eb6-3977-4ac4-d079-f38cc1fb4f47"
      },
      "source": [
        "#Generate a random data\n",
        "np.random.seed(0)\n",
        "area = 2.5 * np.random.randn(100) + 25\n",
        "price = 25 * area + 5 + np.random.randint(20,50, size = len(area))\n",
        "data = np.array([area, price])\n",
        "data = pd.DataFrame(data = data.T, columns=['area','price'])\n",
        "plt.scatter(data['area'], data['price'])\n",
        "plt.show()\n"
      ],
      "execution_count": 4,
      "outputs": [
        {
          "output_type": "display_data",
          "data": {
            "image/png": "[encoded data removed]",
            "text/plain": [
              "<Figure size 432x288 with 1 Axes>"
            ]
          },
          "metadata": {
            "tags": [],
            "needs_background": "light"
          }
        }
      ]
    },
    {
      "cell_type": "markdown",
      "metadata": {
        "id": "Bgvl_GI0G9ei",
        "colab_type": "text"
      },
      "source": [
        "Now, we calculate the two regression coefficients using the equations we defined. You can see the result is very much near the linear relationship we have simulated:"
      ]
    },
    {
      "cell_type": "code",
      "metadata": {
        "id": "203qo5mcGho-",
        "colab_type": "code",
        "colab": {
          "base_uri": "https://localhost:8080/",
          "height": 34
        },
        "outputId": "77bcbf19-85ef-408d-cc45-07529a365868"
      },
      "source": [
        "W = sum(price*(area-np.mean(area))) / sum((area-np.mean(area))**2)\n",
        "b = np.mean(price) - W*np.mean(area)\n",
        "print(\"The regression coefficients are\", W,b)\n"
      ],
      "execution_count": 5,
      "outputs": [
        {
          "output_type": "stream",
          "text": [
            "The regression coefficients are 24.815544052284988 43.4989785533412\n"
          ],
          "name": "stdout"
        }
      ]
    },
    {
      "cell_type": "markdown",
      "metadata": {
        "id": "wvTaLGLQHP1u",
        "colab_type": "text"
      },
      "source": [
        "Let us now try predicting the new prices using the obtained weight and bias values:\n"
      ]
    },
    {
      "cell_type": "code",
      "metadata": {
        "id": "PpqXk6vxHD_T",
        "colab_type": "code",
        "colab": {}
      },
      "source": [
        "y_pred = W * area + b"
      ],
      "execution_count": 0,
      "outputs": []
    },
    {
      "cell_type": "markdown",
      "metadata": {
        "id": "ux7LyPO4HUvk",
        "colab_type": "text"
      },
      "source": [
        "Next, we plot the predicted prices along with the actual price. You can see that predicted prices follow a linear relationship with the area:"
      ]
    },
    {
      "cell_type": "code",
      "metadata": {
        "id": "BXKO3d58HVqm",
        "colab_type": "code",
        "colab": {
          "base_uri": "https://localhost:8080/",
          "height": 296
        },
        "outputId": "ef00d156-1508-4f72-b004-25c7e6898858"
      },
      "source": [
        "plt.plot(area, y_pred, color='red',label=\"Predicted Price\")\n",
        "plt.scatter(data['area'], data['price'], label=\"Training Data\")\n",
        "plt.xlabel(\"Area\")\n",
        "plt.ylabel(\"Price\")\n",
        "plt.legend()"
      ],
      "execution_count": 7,
      "outputs": [
        {
          "output_type": "execute_result",
          "data": {
            "text/plain": [
              "<matplotlib.legend.Legend at 0x7f67c78e7a90>"
            ]
          },
          "metadata": {
            "tags": []
          },
          "execution_count": 7
        },
        {
          "output_type": "display_data",
          "data": {
            "image/png": "[encoded data removed]",
            "text/plain": [
              "<Figure size 432x288 with 1 Axes>"
            ]
          },
          "metadata": {
            "tags": [],
            "needs_background": "light"
          }
        }
      ]
    }
  ]
}