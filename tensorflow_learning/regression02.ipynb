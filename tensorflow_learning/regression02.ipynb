{
  "nbformat": 4,
  "nbformat_minor": 0,
  "metadata": {
    "colab": {
      "name": "regression02.ipynb",
      "provenance": [],
      "toc_visible": true,
      "authorship_tag": "ABX9TyPO6EAmwKpEotkAlmiqhDQs",
      "include_colab_link": true
    },
    "kernelspec": {
      "name": "python3",
      "display_name": "Python 3"
    }
  },
  "cells": [
    {
      "cell_type": "markdown",
      "metadata": {
        "id": "view-in-github",
        "colab_type": "text"
      },
      "source": [
        "<a href=\"https://colab.research.google.com/github/LuizFelipeLemon/machine_learning/blob/master/tensorflow_learning/regression02.ipynb\" target=\"_parent\"><img src=\"https://colab.research.google.com/assets/colab-badge.svg\" alt=\"Open In Colab\"/></a>"
      ]
    },
    {
      "cell_type": "markdown",
      "metadata": {
        "id": "wwxBstuiK4-1",
        "colab_type": "text"
      },
      "source": [
        "# Using a simple TensorFlow estimator\n",
        "Let us build a simple TensorFlow estimator with a simple dataset for a multiple regression problem. We continue with the home price prediction, but now have two features, that is, we are considering two independent variables: the area of the house and its type (bungalow or apartment) on which we presume our price should depend:"
      ]
    },
    {
      "cell_type": "markdown",
      "metadata": {
        "id": "BrbWMxK6MJ7p",
        "colab_type": "text"
      },
      "source": [
        "We import the necessary modules. We will need TensorFlow and its feature_column module. Since our dataset contains both numeric and categorical data, we need the functions to process both types of data:"
      ]
    },
    {
      "cell_type": "code",
      "metadata": {
        "id": "JlkbQouLK023",
        "colab_type": "code",
        "colab": {}
      },
      "source": [
        "import tensorflow as tf\n",
        "from tensorflow import feature_column as fc\n",
        "numeric_column = fc.numeric_column \n",
        "categorical_column_with_vocabulary_list = fc.categorical_column_with_vocabulary_list"
      ],
      "execution_count": 0,
      "outputs": []
    },
    {
      "cell_type": "markdown",
      "metadata": {
        "id": "9vqrOYaGMaLp",
        "colab_type": "text"
      },
      "source": [
        "Now, we define the feature columns we will be using to train the regressor. Our dataset, as we mentioned, consists of two features \"area\" a numeric value signifying the area of the house and \"type\" telling if it is a \"bungalow\" or \"apartment\":\n"
      ]
    },
    {
      "cell_type": "code",
      "metadata": {
        "id": "L0KErU0oMMJY",
        "colab_type": "code",
        "colab": {}
      },
      "source": [
        "featcols = [\n",
        "tf.feature_column.numeric_column(\"area\"),\n",
        "tf.feature_column.categorical_column_with_vocabulary_list(\"type\",[\"bungalow\",\"apartment\"])\n",
        "]"
      ],
      "execution_count": 0,
      "outputs": []
    },
    {
      "cell_type": "markdown",
      "metadata": {
        "id": "aaU3WJAuMvv8",
        "colab_type": "text"
      },
      "source": [
        "In the next step, we define an input function to provide input for training. The function returns a tuple containing features and labels:"
      ]
    },
    {
      "cell_type": "code",
      "metadata": {
        "id": "dPb7kenyMchI",
        "colab_type": "code",
        "colab": {}
      },
      "source": [
        "def train_input_fn():\n",
        "        features = {\"area\":[1000,2000,4000,1000,2000,4000],\n",
        "             \"type\":[\"bungalow\",\"bungalow\",\"house\",\n",
        "                     \"apartment\",\"apartment\",\"apartment\"]}\n",
        "        labels = [ 500 , 1000 , 1500 , 700 , 1300 , 1900 ]\n",
        "        return features, labels"
      ],
      "execution_count": 0,
      "outputs": []
    },
    {
      "cell_type": "markdown",
      "metadata": {
        "id": "RvkXUJ10Ndt7",
        "colab_type": "text"
      },
      "source": [
        "Next, we use the premade LinearRegressor estimator and fit it on the training dataset:"
      ]
    },
    {
      "cell_type": "code",
      "metadata": {
        "id": "pWZD82yiNZ3m",
        "colab_type": "code",
        "colab": {}
      },
      "source": [
        "model = tf.estimator.LinearRegressor(featcols)\n",
        "model.train(train_input_fn, steps=200)"
      ],
      "execution_count": 0,
      "outputs": []
    },
    {
      "cell_type": "markdown",
      "metadata": {
        "id": "i3kt2HQ2Nt48",
        "colab_type": "text"
      },
      "source": [
        "Now that the estimator is trained, let us see the result of the prediction:"
      ]
    },
    {
      "cell_type": "code",
      "metadata": {
        "id": "pEpk5gnCNfwp",
        "colab_type": "code",
        "colab": {
          "base_uri": "https://localhost:8080/",
          "height": 190
        },
        "outputId": "f6dd6c1a-bf9c-436d-af0e-bbcab3296cc3"
      },
      "source": [
        "def predict_input_fn():\n",
        "    features = {\"area\":[1500,1800],\n",
        "                \"type\":[\"house\",\"apt\"]}\n",
        "    return features\n",
        "predictions = model.predict(predict_input_fn)\n",
        "print(next(predictions))\n",
        "print(next(predictions))"
      ],
      "execution_count": 9,
      "outputs": [
        {
          "output_type": "stream",
          "text": [
            "WARNING:tensorflow:Input graph does not use tf.data.Dataset or contain a QueueRunner. That means predict yields forever. This is probably a mistake.\n",
            "INFO:tensorflow:Calling model_fn.\n",
            "INFO:tensorflow:Done calling model_fn.\n",
            "INFO:tensorflow:Graph was finalized.\n",
            "INFO:tensorflow:Restoring parameters from /tmp/tmph9qu58qj/model.ckpt-200\n",
            "INFO:tensorflow:Running local_init_op.\n",
            "INFO:tensorflow:Done running local_init_op.\n",
            "{'predictions': array([692.7829], dtype=float32)}\n",
            "{'predictions': array([830.9035], dtype=float32)}\n"
          ],
          "name": "stdout"
        }
      ]
    },
    {
      "cell_type": "markdown",
      "metadata": {
        "id": "3JQgA0f9O44R",
        "colab_type": "text"
      },
      "source": [
        "# TensorFlow estimator in a real dataset"
      ]
    },
    {
      "cell_type": "markdown",
      "metadata": {
        "id": "ursZYG3aOwGU",
        "colab_type": "text"
      },
      "source": [
        "Now that we have the basics covered, let us apply these concepts to a real dataset. We will consider the Boston housing price dataset (http://lib.stat.cmu.edu/datasets/boston) collected by Harrison and Rubinfield in 1978. The dataset contains 506 sample cases. Each house is assigned 14 attributes:\n"
      ]
    },
    {
      "cell_type": "code",
      "metadata": {
        "id": "Jo_Rhm9HNziG",
        "colab_type": "code",
        "colab": {}
      },
      "source": [
        "import tensorflow as tf\n",
        "import pandas as pd\n",
        "import tensorflow.feature_column as fc\n",
        "from tensorflow.keras.datasets import boston_housing"
      ],
      "execution_count": 0,
      "outputs": []
    },
    {
      "cell_type": "markdown",
      "metadata": {
        "id": "w2fxYLPKPTHE",
        "colab_type": "text"
      },
      "source": [
        "Download the dataset:\n"
      ]
    },
    {
      "cell_type": "code",
      "metadata": {
        "id": "0iACsUmmPQrU",
        "colab_type": "code",
        "colab": {}
      },
      "source": [
        "(x_train, y_train), (x_test, y_test) = boston_housing.load_data()"
      ],
      "execution_count": 0,
      "outputs": []
    },
    {
      "cell_type": "markdown",
      "metadata": {
        "id": "sGz8pmOTPaO8",
        "colab_type": "text"
      },
      "source": [
        "Now let us define the features in our data, and for easy processing and visualization convert it into pandas DataFrame:"
      ]
    },
    {
      "cell_type": "code",
      "metadata": {
        "id": "CsoA5nKfPVQk",
        "colab_type": "code",
        "colab": {
          "base_uri": "https://localhost:8080/",
          "height": 204
        },
        "outputId": "9f73edcd-a58d-4868-824b-4c82540a2fea"
      },
      "source": [
        "features = ['CRIM', 'ZN', \n",
        "            'INDUS','CHAS','NOX','RM','AGE',\n",
        "            'DIS', 'RAD', 'TAX', 'PTRATIO', 'B', 'LSTAT']\n",
        "x_train_df = pd.DataFrame(x_train, columns= features)\n",
        "x_test_df = pd.DataFrame(x_test, columns= features)\n",
        "y_train_df = pd.DataFrame(y_train, columns=['MEDV'])\n",
        "y_test_df = pd.DataFrame(y_test, columns=['MEDV'])\n",
        "x_train_df.head()"
      ],
      "execution_count": 16,
      "outputs": [
        {
          "output_type": "execute_result",
          "data": {
            "text/html": [
              "<div>\n",
              "<style scoped>\n",
              "    .dataframe tbody tr th:only-of-type {\n",
              "        vertical-align: middle;\n",
              "    }\n",
              "\n",
              "    .dataframe tbody tr th {\n",
              "        vertical-align: top;\n",
              "    }\n",
              "\n",
              "    .dataframe thead th {\n",
              "        text-align: right;\n",
              "    }\n",
              "</style>\n",
              "<table border=\"1\" class=\"dataframe\">\n",
              "  <thead>\n",
              "    <tr style=\"text-align: right;\">\n",
              "      <th></th>\n",
              "      <th>CRIM</th>\n",
              "      <th>ZN</th>\n",
              "      <th>INDUS</th>\n",
              "      <th>CHAS</th>\n",
              "      <th>NOX</th>\n",
              "      <th>RM</th>\n",
              "      <th>AGE</th>\n",
              "      <th>DIS</th>\n",
              "      <th>RAD</th>\n",
              "      <th>TAX</th>\n",
              "      <th>PTRATIO</th>\n",
              "      <th>B</th>\n",
              "      <th>LSTAT</th>\n",
              "    </tr>\n",
              "  </thead>\n",
              "  <tbody>\n",
              "    <tr>\n",
              "      <th>0</th>\n",
              "      <td>1.23247</td>\n",
              "      <td>0.0</td>\n",
              "      <td>8.14</td>\n",
              "      <td>0.0</td>\n",
              "      <td>0.538</td>\n",
              "      <td>6.142</td>\n",
              "      <td>91.7</td>\n",
              "      <td>3.9769</td>\n",
              "      <td>4.0</td>\n",
              "      <td>307.0</td>\n",
              "      <td>21.0</td>\n",
              "      <td>396.90</td>\n",
              "      <td>18.72</td>\n",
              "    </tr>\n",
              "    <tr>\n",
              "      <th>1</th>\n",
              "      <td>0.02177</td>\n",
              "      <td>82.5</td>\n",
              "      <td>2.03</td>\n",
              "      <td>0.0</td>\n",
              "      <td>0.415</td>\n",
              "      <td>7.610</td>\n",
              "      <td>15.7</td>\n",
              "      <td>6.2700</td>\n",
              "      <td>2.0</td>\n",
              "      <td>348.0</td>\n",
              "      <td>14.7</td>\n",
              "      <td>395.38</td>\n",
              "      <td>3.11</td>\n",
              "    </tr>\n",
              "    <tr>\n",
              "      <th>2</th>\n",
              "      <td>4.89822</td>\n",
              "      <td>0.0</td>\n",
              "      <td>18.10</td>\n",
              "      <td>0.0</td>\n",
              "      <td>0.631</td>\n",
              "      <td>4.970</td>\n",
              "      <td>100.0</td>\n",
              "      <td>1.3325</td>\n",
              "      <td>24.0</td>\n",
              "      <td>666.0</td>\n",
              "      <td>20.2</td>\n",
              "      <td>375.52</td>\n",
              "      <td>3.26</td>\n",
              "    </tr>\n",
              "    <tr>\n",
              "      <th>3</th>\n",
              "      <td>0.03961</td>\n",
              "      <td>0.0</td>\n",
              "      <td>5.19</td>\n",
              "      <td>0.0</td>\n",
              "      <td>0.515</td>\n",
              "      <td>6.037</td>\n",
              "      <td>34.5</td>\n",
              "      <td>5.9853</td>\n",
              "      <td>5.0</td>\n",
              "      <td>224.0</td>\n",
              "      <td>20.2</td>\n",
              "      <td>396.90</td>\n",
              "      <td>8.01</td>\n",
              "    </tr>\n",
              "    <tr>\n",
              "      <th>4</th>\n",
              "      <td>3.69311</td>\n",
              "      <td>0.0</td>\n",
              "      <td>18.10</td>\n",
              "      <td>0.0</td>\n",
              "      <td>0.713</td>\n",
              "      <td>6.376</td>\n",
              "      <td>88.4</td>\n",
              "      <td>2.5671</td>\n",
              "      <td>24.0</td>\n",
              "      <td>666.0</td>\n",
              "      <td>20.2</td>\n",
              "      <td>391.43</td>\n",
              "      <td>14.65</td>\n",
              "    </tr>\n",
              "  </tbody>\n",
              "</table>\n",
              "</div>"
            ],
            "text/plain": [
              "      CRIM    ZN  INDUS  CHAS    NOX  ...   RAD    TAX  PTRATIO       B  LSTAT\n",
              "0  1.23247   0.0   8.14   0.0  0.538  ...   4.0  307.0     21.0  396.90  18.72\n",
              "1  0.02177  82.5   2.03   0.0  0.415  ...   2.0  348.0     14.7  395.38   3.11\n",
              "2  4.89822   0.0  18.10   0.0  0.631  ...  24.0  666.0     20.2  375.52   3.26\n",
              "3  0.03961   0.0   5.19   0.0  0.515  ...   5.0  224.0     20.2  396.90   8.01\n",
              "4  3.69311   0.0  18.10   0.0  0.713  ...  24.0  666.0     20.2  391.43  14.65\n",
              "\n",
              "[5 rows x 13 columns]"
            ]
          },
          "metadata": {
            "tags": []
          },
          "execution_count": 16
        }
      ]
    },
    {
      "cell_type": "markdown",
      "metadata": {
        "id": "PwdeZ7YUPwXD",
        "colab_type": "text"
      },
      "source": [
        "At present we are taking all the features; we suggest that you check the correlation among different features and the predicted label MEDV to choose the best features and repeat the experiment:"
      ]
    },
    {
      "cell_type": "code",
      "metadata": {
        "id": "682gFiU5PdFE",
        "colab_type": "code",
        "colab": {}
      },
      "source": [
        "feature_columns = []\n",
        "for feature_name in features:\n",
        "        feature_columns.append(fc.numeric_column(feature_name, dtype=tf.float32))"
      ],
      "execution_count": 0,
      "outputs": []
    },
    {
      "cell_type": "markdown",
      "metadata": {
        "id": "xZaIPcG8kB3o",
        "colab_type": "text"
      },
      "source": [
        "We create the input function for the estimator. The function returns the tf.Data.Dataset object with a tuple: features and labels in batches. Use it to create train_input_fn and val_input_fn:"
      ]
    },
    {
      "cell_type": "code",
      "metadata": {
        "id": "e2cdQHN0P2rb",
        "colab_type": "code",
        "colab": {}
      },
      "source": [
        "def estimator_input_fn(df_data, df_label, epochs=20, shuffle=True, batch_size=64):\n",
        "    def input_function():\n",
        "        ds = tf.data.Dataset.from_tensor_slices((dict(df_data), df_label))\n",
        "        if shuffle:\n",
        "            ds = ds.shuffle(100)\n",
        "        ds = ds.batch(batch_size).repeat(epochs)\n",
        "        return ds\n",
        "    return input_function\n",
        "\n",
        "train_input_fn = estimator_input_fn(x_train_df, y_train_df)\n",
        "val_input_fn = estimator_input_fn(x_test_df, y_test_df, epochs=1, shuffle=False)"
      ],
      "execution_count": 0,
      "outputs": []
    },
    {
      "cell_type": "markdown",
      "metadata": {
        "id": "iNhs-lO-lrgC",
        "colab_type": "text"
      },
      "source": [
        "Next we instantiate a LinearRegressor estimator; we train it using training data using train_input_fn, and find the result for the validation dataset by evaluating the trained model using val_input_fn:"
      ]
    },
    {
      "cell_type": "code",
      "metadata": {
        "id": "Y9I7M14WlcWf",
        "colab_type": "code",
        "colab": {
          "base_uri": "https://localhost:8080/",
          "height": 802
        },
        "outputId": "894db14c-a47a-475b-9568-da3a27fc8326"
      },
      "source": [
        "linear_est = tf.estimator.LinearRegressor(feature_columns=feature_columns, model_dir = 'logs/func/')\n",
        "linear_est.train(train_input_fn, steps=100)\n",
        "result = linear_est.evaluate(val_input_fn)"
      ],
      "execution_count": 24,
      "outputs": [
        {
          "output_type": "stream",
          "text": [
            "INFO:tensorflow:Using default config.\n",
            "INFO:tensorflow:Using config: {'_model_dir': 'logs/func/', '_tf_random_seed': None, '_save_summary_steps': 100, '_save_checkpoints_steps': None, '_save_checkpoints_secs': 600, '_session_config': allow_soft_placement: true\n",
            "graph_options {\n",
            "  rewrite_options {\n",
            "    meta_optimizer_iterations: ONE\n",
            "  }\n",
            "}\n",
            ", '_keep_checkpoint_max': 5, '_keep_checkpoint_every_n_hours': 10000, '_log_step_count_steps': 100, '_train_distribute': None, '_device_fn': None, '_protocol': None, '_eval_distribute': None, '_experimental_distribute': None, '_experimental_max_worker_delay_secs': None, '_session_creation_timeout_secs': 7200, '_service': None, '_cluster_spec': ClusterSpec({}), '_task_type': 'worker', '_task_id': 0, '_global_id_in_cluster': 0, '_master': '', '_evaluation_master': '', '_is_chief': True, '_num_ps_replicas': 0, '_num_worker_replicas': 1}\n",
            "INFO:tensorflow:Calling model_fn.\n",
            "WARNING:tensorflow:Layer linear/linear_model is casting an input tensor from dtype float64 to the layer's dtype of float32, which is new behavior in TensorFlow 2.  The layer has dtype float32 because it's dtype defaults to floatx.\n",
            "\n",
            "If you intended to run this layer in float32, you can safely ignore this warning. If in doubt, this warning is likely only an issue if you are porting a TensorFlow 1.X model to TensorFlow 2.\n",
            "\n",
            "To change all layers to have dtype float64 by default, call `tf.keras.backend.set_floatx('float64')`. To change just this layer, pass dtype='float64' to the layer constructor. If you are the author of this layer, you can disable autocasting by passing autocast=False to the base Layer constructor.\n",
            "\n",
            "INFO:tensorflow:Done calling model_fn.\n",
            "INFO:tensorflow:Create CheckpointSaverHook.\n",
            "INFO:tensorflow:Graph was finalized.\n",
            "INFO:tensorflow:Running local_init_op.\n",
            "INFO:tensorflow:Done running local_init_op.\n",
            "INFO:tensorflow:Calling checkpoint listeners before saving checkpoint 0...\n",
            "INFO:tensorflow:Saving checkpoints for 0 into logs/func/model.ckpt.\n",
            "INFO:tensorflow:Calling checkpoint listeners after saving checkpoint 0...\n",
            "INFO:tensorflow:loss = 528.6669, step = 0\n",
            "INFO:tensorflow:Calling checkpoint listeners before saving checkpoint 100...\n",
            "INFO:tensorflow:Saving checkpoints for 100 into logs/func/model.ckpt.\n",
            "INFO:tensorflow:Calling checkpoint listeners after saving checkpoint 100...\n",
            "INFO:tensorflow:Loss for final step: 60.51242.\n",
            "INFO:tensorflow:Calling model_fn.\n",
            "WARNING:tensorflow:Layer linear/linear_model is casting an input tensor from dtype float64 to the layer's dtype of float32, which is new behavior in TensorFlow 2.  The layer has dtype float32 because it's dtype defaults to floatx.\n",
            "\n",
            "If you intended to run this layer in float32, you can safely ignore this warning. If in doubt, this warning is likely only an issue if you are porting a TensorFlow 1.X model to TensorFlow 2.\n",
            "\n",
            "To change all layers to have dtype float64 by default, call `tf.keras.backend.set_floatx('float64')`. To change just this layer, pass dtype='float64' to the layer constructor. If you are the author of this layer, you can disable autocasting by passing autocast=False to the base Layer constructor.\n",
            "\n",
            "INFO:tensorflow:Done calling model_fn.\n",
            "INFO:tensorflow:Starting evaluation at 2020-06-10T18:59:22Z\n",
            "INFO:tensorflow:Graph was finalized.\n",
            "INFO:tensorflow:Restoring parameters from logs/func/model.ckpt-100\n",
            "INFO:tensorflow:Running local_init_op.\n",
            "INFO:tensorflow:Done running local_init_op.\n",
            "INFO:tensorflow:Inference Time : 0.39201s\n",
            "INFO:tensorflow:Finished evaluation at 2020-06-10-18:59:22\n",
            "INFO:tensorflow:Saving dict for global step 100: average_loss = 70.60597, global_step = 100, label/mean = 23.078432, loss = 71.997345, prediction/mean = 23.143538\n",
            "INFO:tensorflow:Saving 'checkpoint_path' summary for global step 100: logs/func/model.ckpt-100\n"
          ],
          "name": "stdout"
        }
      ]
    },
    {
      "cell_type": "markdown",
      "metadata": {
        "id": "DI2FaTaTmAts",
        "colab_type": "text"
      },
      "source": [
        "Let's make a prediction on it:"
      ]
    },
    {
      "cell_type": "code",
      "metadata": {
        "id": "MvdmWms9l0kd",
        "colab_type": "code",
        "colab": {
          "base_uri": "https://localhost:8080/",
          "height": 785
        },
        "outputId": "e2ae1ced-559a-4cb8-dd47-4a5f809344fe"
      },
      "source": [
        "result = linear_est.predict(val_input_fn)\n",
        "for pred,exp in zip(result, y_test[:32]):\n",
        "    print(\"Predicted Value: \", pred['predictions'][0], \"Expected: \", exp)"
      ],
      "execution_count": 23,
      "outputs": [
        {
          "output_type": "stream",
          "text": [
            "INFO:tensorflow:Calling model_fn.\n",
            "WARNING:tensorflow:Layer linear/linear_model is casting an input tensor from dtype float64 to the layer's dtype of float32, which is new behavior in TensorFlow 2.  The layer has dtype float32 because it's dtype defaults to floatx.\n",
            "\n",
            "If you intended to run this layer in float32, you can safely ignore this warning. If in doubt, this warning is likely only an issue if you are porting a TensorFlow 1.X model to TensorFlow 2.\n",
            "\n",
            "To change all layers to have dtype float64 by default, call `tf.keras.backend.set_floatx('float64')`. To change just this layer, pass dtype='float64' to the layer constructor. If you are the author of this layer, you can disable autocasting by passing autocast=False to the base Layer constructor.\n",
            "\n",
            "INFO:tensorflow:Done calling model_fn.\n",
            "INFO:tensorflow:Graph was finalized.\n",
            "INFO:tensorflow:Restoring parameters from /tmp/tmpk0dxsio6/model.ckpt-100\n",
            "INFO:tensorflow:Running local_init_op.\n",
            "INFO:tensorflow:Done running local_init_op.\n",
            "Predicted Value:  3.336909 Expected:  7.2\n",
            "Predicted Value:  23.038101 Expected:  18.8\n",
            "Predicted Value:  21.667313 Expected:  19.0\n",
            "Predicted Value:  22.299356 Expected:  27.0\n",
            "Predicted Value:  22.249353 Expected:  22.2\n",
            "Predicted Value:  21.491129 Expected:  24.5\n",
            "Predicted Value:  29.046186 Expected:  31.2\n",
            "Predicted Value:  25.146292 Expected:  22.9\n",
            "Predicted Value:  20.260138 Expected:  20.5\n",
            "Predicted Value:  23.312317 Expected:  23.2\n",
            "Predicted Value:  8.909856 Expected:  18.6\n",
            "Predicted Value:  22.507208 Expected:  14.5\n",
            "Predicted Value:  22.757124 Expected:  17.8\n",
            "Predicted Value:  22.614279 Expected:  50.0\n",
            "Predicted Value:  17.938652 Expected:  20.8\n",
            "Predicted Value:  24.40269 Expected:  24.3\n",
            "Predicted Value:  20.414846 Expected:  24.2\n",
            "Predicted Value:  21.119335 Expected:  19.8\n",
            "Predicted Value:  23.086132 Expected:  19.1\n",
            "Predicted Value:  24.765368 Expected:  22.7\n",
            "Predicted Value:  18.795755 Expected:  12.0\n",
            "Predicted Value:  4.4833345 Expected:  10.2\n",
            "Predicted Value:  21.232523 Expected:  20.0\n",
            "Predicted Value:  24.131285 Expected:  18.5\n",
            "Predicted Value:  30.999462 Expected:  20.9\n",
            "Predicted Value:  23.379763 Expected:  23.0\n",
            "Predicted Value:  23.628204 Expected:  27.5\n",
            "Predicted Value:  32.77998 Expected:  30.1\n",
            "Predicted Value:  6.592988 Expected:  9.5\n",
            "Predicted Value:  23.178032 Expected:  22.0\n",
            "Predicted Value:  22.925655 Expected:  21.2\n",
            "Predicted Value:  8.165821 Expected:  14.1\n"
          ],
          "name": "stdout"
        }
      ]
    },
    {
      "cell_type": "code",
      "metadata": {
        "id": "Ax5gYtnqmCEP",
        "colab_type": "code",
        "colab": {}
      },
      "source": [
        ""
      ],
      "execution_count": 0,
      "outputs": []
    }
  ]
}