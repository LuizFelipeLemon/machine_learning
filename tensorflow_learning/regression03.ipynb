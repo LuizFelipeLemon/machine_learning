{
  "nbformat": 4,
  "nbformat_minor": 0,
  "metadata": {
    "colab": {
      "name": "regression03.ipynb",
      "provenance": [],
      "toc_visible": true,
      "authorship_tag": "ABX9TyN/4hQII2lAvjSmC4uDX/95",
      "include_colab_link": true
    },
    "kernelspec": {
      "name": "python3",
      "display_name": "Python 3"
    }
  },
  "cells": [
    {
      "cell_type": "markdown",
      "metadata": {
        "id": "view-in-github",
        "colab_type": "text"
      },
      "source": [
        "<a href=\"https://colab.research.google.com/github/LuizFelipeLemon/machine_learning/blob/master/tensorflow_learning/regression03.ipynb\" target=\"_parent\"><img src=\"https://colab.research.google.com/assets/colab-badge.svg\" alt=\"Open In Colab\"/></a>"
      ]
    },
    {
      "cell_type": "markdown",
      "metadata": {
        "id": "Kud-RFmQrNJ-",
        "colab_type": "text"
      },
      "source": [
        "#Logistic regression on the MNIST dataset\n"
      ]
    },
    {
      "cell_type": "code",
      "metadata": {
        "id": "BB4RnLeuq1u3",
        "colab_type": "code",
        "colab": {
          "base_uri": "https://localhost:8080/",
          "height": 34
        },
        "outputId": "26069b3b-b690-47e8-dd6d-2a9fa1a9499f"
      },
      "source": [
        "# TensorFlow and tf.keras\n",
        "import tensorflow as tf\n",
        "from tensorflow import keras\n",
        "# Helper libraries\n",
        "import numpy as np\n",
        "import matplotlib.pyplot as plt\n",
        "print(tf.__version__)"
      ],
      "execution_count": 1,
      "outputs": [
        {
          "output_type": "stream",
          "text": [
            "2.2.0\n"
          ],
          "name": "stdout"
        }
      ]
    },
    {
      "cell_type": "markdown",
      "metadata": {
        "id": "Y4TrOJhEriAH",
        "colab_type": "text"
      },
      "source": [
        "We take the input data of MNIST from the tensorflow.keras dataset:"
      ]
    },
    {
      "cell_type": "code",
      "metadata": {
        "id": "G_wnYk0Ire-L",
        "colab_type": "code",
        "colab": {}
      },
      "source": [
        "# Load training and eval data\n",
        "((train_data, train_labels), (eval_data, eval_labels)) = tf.keras.datasets.mnist.load_data()"
      ],
      "execution_count": 0,
      "outputs": []
    },
    {
      "cell_type": "markdown",
      "metadata": {
        "id": "H61brYLRrtdQ",
        "colab_type": "text"
      },
      "source": [
        "Next, we preprocess the data:"
      ]
    },
    {
      "cell_type": "code",
      "metadata": {
        "id": "difumt-Mrj7m",
        "colab_type": "code",
        "colab": {}
      },
      "source": [
        "train_data = train_data/np.float32(255)\n",
        "train_labels = train_labels.astype(np.int32)  \n",
        "eval_data = eval_data/np.float32(255)\n",
        "eval_labels = eval_labels.astype(np.int32)"
      ],
      "execution_count": 0,
      "outputs": []
    },
    {
      "cell_type": "markdown",
      "metadata": {
        "id": "4RhEZ4ggsGeb",
        "colab_type": "text"
      },
      "source": [
        "Use the feature_column module of TensorFlow to define numeric features of size 28×28:"
      ]
    },
    {
      "cell_type": "code",
      "metadata": {
        "id": "n1TIfGy5rvLX",
        "colab_type": "code",
        "colab": {}
      },
      "source": [
        "feature_columns = [tf.feature_column.numeric_column(\"x\", shape=[28, 28])]"
      ],
      "execution_count": 0,
      "outputs": []
    },
    {
      "cell_type": "markdown",
      "metadata": {
        "id": "MV4GNyKfsQCy",
        "colab_type": "text"
      },
      "source": [
        "Create the logistic regression estimator. We use a simple `LinearClassifier`. We encourage you to experiment with `DNNClassifier` as well:"
      ]
    },
    {
      "cell_type": "code",
      "metadata": {
        "id": "aL-IC45Lr3nL",
        "colab_type": "code",
        "colab": {
          "base_uri": "https://localhost:8080/",
          "height": 173
        },
        "outputId": "fc0172ad-d690-4711-9845-41405a576c5f"
      },
      "source": [
        "classifier = tf.estimator.LinearClassifier(\n",
        "    feature_columns=feature_columns,\n",
        "    n_classes=10,\n",
        "    model_dir=\"mnist_model/\"\n",
        ")"
      ],
      "execution_count": 23,
      "outputs": [
        {
          "output_type": "stream",
          "text": [
            "INFO:tensorflow:Using default config.\n",
            "INFO:tensorflow:Using config: {'_model_dir': 'mnist_model/', '_tf_random_seed': None, '_save_summary_steps': 100, '_save_checkpoints_steps': None, '_save_checkpoints_secs': 600, '_session_config': allow_soft_placement: true\n",
            "graph_options {\n",
            "  rewrite_options {\n",
            "    meta_optimizer_iterations: ONE\n",
            "  }\n",
            "}\n",
            ", '_keep_checkpoint_max': 5, '_keep_checkpoint_every_n_hours': 10000, '_log_step_count_steps': 100, '_train_distribute': None, '_device_fn': None, '_protocol': None, '_eval_distribute': None, '_experimental_distribute': None, '_experimental_max_worker_delay_secs': None, '_session_creation_timeout_secs': 7200, '_service': None, '_cluster_spec': ClusterSpec({}), '_task_type': 'worker', '_task_id': 0, '_global_id_in_cluster': 0, '_master': '', '_evaluation_master': '', '_is_chief': True, '_num_ps_replicas': 0, '_num_worker_replicas': 1}\n"
          ],
          "name": "stdout"
        }
      ]
    },
    {
      "cell_type": "markdown",
      "metadata": {
        "id": "6PvCOgQUskW4",
        "colab_type": "text"
      },
      "source": [
        "Let us also build an input_function to feed the estimator:"
      ]
    },
    {
      "cell_type": "code",
      "metadata": {
        "id": "L88hTiVAsXDh",
        "colab_type": "code",
        "colab": {}
      },
      "source": [
        "train_input_fn = tf.compat.v1.estimator.inputs.numpy_input_fn(\n",
        "        x={\"x\": train_data},\n",
        "        y=train_labels,\n",
        "            batch_size=100,\n",
        "            num_epochs=None,\n",
        "            shuffle=True)"
      ],
      "execution_count": 0,
      "outputs": []
    },
    {
      "cell_type": "markdown",
      "metadata": {
        "id": "re-aPmnps3tI",
        "colab_type": "text"
      },
      "source": [
        "Let's now train the classifier:"
      ]
    },
    {
      "cell_type": "code",
      "metadata": {
        "id": "XAd0xTOwsnc6",
        "colab_type": "code",
        "colab": {
          "base_uri": "https://localhost:8080/",
          "height": 289
        },
        "outputId": "daa95274-4137-4324-e26e-b5e2c60074c8"
      },
      "source": [
        "classifier.train(input_fn=train_input_fn, steps=10)"
      ],
      "execution_count": 25,
      "outputs": [
        {
          "output_type": "stream",
          "text": [
            "INFO:tensorflow:Calling model_fn.\n",
            "INFO:tensorflow:Done calling model_fn.\n",
            "INFO:tensorflow:Create CheckpointSaverHook.\n",
            "INFO:tensorflow:Graph was finalized.\n",
            "INFO:tensorflow:Restoring parameters from mnist_model/model.ckpt-30\n",
            "INFO:tensorflow:Running local_init_op.\n",
            "INFO:tensorflow:Done running local_init_op.\n",
            "INFO:tensorflow:Calling checkpoint listeners before saving checkpoint 30...\n",
            "INFO:tensorflow:Saving checkpoints for 30 into mnist_model/model.ckpt.\n",
            "INFO:tensorflow:Calling checkpoint listeners after saving checkpoint 30...\n",
            "INFO:tensorflow:loss = 0.6423815, step = 30\n",
            "INFO:tensorflow:Calling checkpoint listeners before saving checkpoint 40...\n",
            "INFO:tensorflow:Saving checkpoints for 40 into mnist_model/model.ckpt.\n",
            "INFO:tensorflow:Calling checkpoint listeners after saving checkpoint 40...\n",
            "INFO:tensorflow:Loss for final step: 0.4486683.\n"
          ],
          "name": "stdout"
        },
        {
          "output_type": "execute_result",
          "data": {
            "text/plain": [
              "<tensorflow_estimator.python.estimator.canned.linear.LinearClassifierV2 at 0x7fb6b9aaad30>"
            ]
          },
          "metadata": {
            "tags": []
          },
          "execution_count": 25
        }
      ]
    },
    {
      "cell_type": "markdown",
      "metadata": {
        "id": "EX9lwTiqs_H6",
        "colab_type": "text"
      },
      "source": [
        "Next, we create the input function for validation data:"
      ]
    },
    {
      "cell_type": "code",
      "metadata": {
        "id": "Y6gYnrBQs5Jl",
        "colab_type": "code",
        "colab": {}
      },
      "source": [
        "val_input_fn =  tf.compat.v1.estimator.inputs.numpy_input_fn(\n",
        "        x={\"x\": eval_data},\n",
        "        y=eval_labels,\n",
        "        num_epochs=1,\n",
        "        shuffle=False)"
      ],
      "execution_count": 0,
      "outputs": []
    },
    {
      "cell_type": "markdown",
      "metadata": {
        "id": "ODp7R3w6tHJ0",
        "colab_type": "text"
      },
      "source": [
        "Let us evaluate the trained Linear Classifier on the validation data:"
      ]
    },
    {
      "cell_type": "code",
      "metadata": {
        "id": "z0zN0g03tBJY",
        "colab_type": "code",
        "colab": {
          "base_uri": "https://localhost:8080/",
          "height": 241
        },
        "outputId": "18821f66-e234-47f3-820d-f050245b58f7"
      },
      "source": [
        "eval_results = classifier.evaluate(input_fn=val_input_fn)\n",
        "print(eval_results)"
      ],
      "execution_count": 27,
      "outputs": [
        {
          "output_type": "stream",
          "text": [
            "INFO:tensorflow:Calling model_fn.\n",
            "INFO:tensorflow:Done calling model_fn.\n",
            "INFO:tensorflow:Starting evaluation at 2020-06-10T19:36:52Z\n",
            "INFO:tensorflow:Graph was finalized.\n",
            "INFO:tensorflow:Restoring parameters from mnist_model/model.ckpt-40\n",
            "INFO:tensorflow:Running local_init_op.\n",
            "INFO:tensorflow:Done running local_init_op.\n",
            "INFO:tensorflow:Inference Time : 0.28575s\n",
            "INFO:tensorflow:Finished evaluation at 2020-06-10-19:36:52\n",
            "INFO:tensorflow:Saving dict for global step 40: accuracy = 0.8681, average_loss = 0.463307, global_step = 40, loss = 0.46257624\n",
            "INFO:tensorflow:Saving 'checkpoint_path' summary for global step 40: mnist_model/model.ckpt-40\n",
            "{'accuracy': 0.8681, 'average_loss': 0.463307, 'loss': 0.46257624, 'global_step': 40}\n"
          ],
          "name": "stdout"
        }
      ]
    },
    {
      "cell_type": "code",
      "metadata": {
        "id": "Taxjq1cBvDbN",
        "colab_type": "code",
        "colab": {}
      },
      "source": [
        ""
      ],
      "execution_count": 0,
      "outputs": []
    }
  ]
}