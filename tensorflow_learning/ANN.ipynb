{
  "nbformat": 4,
  "nbformat_minor": 0,
  "metadata": {
    "colab": {
      "name": "ANN.ipynb",
      "provenance": [],
      "authorship_tag": "ABX9TyM1K8yTvj6ZJKkQ5Bl44DdA",
      "include_colab_link": true
    },
    "kernelspec": {
      "name": "python3",
      "display_name": "Python 3"
    }
  },
  "cells": [
    {
      "cell_type": "markdown",
      "metadata": {
        "id": "view-in-github",
        "colab_type": "text"
      },
      "source": [
        "<a href=\"https://colab.research.google.com/github/LuizFelipeLemon/machine_learning/blob/master/tensorflow_learning/ANN.ipynb\" target=\"_parent\"><img src=\"https://colab.research.google.com/assets/colab-badge.svg\" alt=\"Open In Colab\"/></a>"
      ]
    },
    {
      "cell_type": "markdown",
      "metadata": {
        "id": "qVI0YSZ0WyuG",
        "colab_type": "text"
      },
      "source": [
        "# Recognizing handwritten digits"
      ]
    },
    {
      "cell_type": "code",
      "metadata": {
        "id": "RqtIZ5qCJv6T",
        "colab_type": "code",
        "colab": {
          "base_uri": "https://localhost:8080/",
          "height": 51
        },
        "outputId": "6ffead08-2fcf-4a27-9700-eabf4f21785b"
      },
      "source": [
        "import tensorflow as tf\n",
        "import numpy as np\n",
        "from tensorflow import keras\n",
        "# Network and training parameters.\n",
        "EPOCHS = 200\n",
        "BATCH_SIZE = 128\n",
        "VERBOSE = 1\n",
        "NB_CLASSES = 10   # number of outputs = number of digits\n",
        "N_HIDDEN = 128\n",
        "VALIDATION_SPLIT = 0.2 # how much TRAIN is reserved for VALIDATION\n",
        "# Loading MNIST dataset.\n",
        "# verify\n",
        "# You can verify that the split between train and test is 60,000, and 10,000 respectively. \n",
        "# Labels have one-hot representation.is automatically applied\n",
        "mnist = keras.datasets.mnist\n",
        "(X_train, Y_train), (X_test, Y_test) = mnist.load_data()\n",
        "# X_train is 60000 rows of 28x28 values; we  --> reshape it to \n",
        "# 60000 x 784.\n",
        "RESHAPED = 784\n",
        "#\n",
        "X_train = X_train.reshape(60000, RESHAPED)\n",
        "X_test = X_test.reshape(10000, RESHAPED)\n",
        "X_train = X_train.astype('float32')\n",
        "X_test = X_test.astype('float32')\n",
        "# Normalize inputs to be within in [0, 1].\n",
        "X_train /= 255\n",
        "X_test /= 255\n",
        "print(X_train.shape[0], 'train samples')\n",
        "print(X_test.shape[0], 'test samples')\n",
        "# One-hot representation of the labels.\n",
        "Y_train = tf.keras.utils.to_categorical(Y_train, NB_CLASSES)\n",
        "Y_test = tf.keras.utils.to_categorical(Y_test, NB_CLASSES)"
      ],
      "execution_count": 7,
      "outputs": [
        {
          "output_type": "stream",
          "text": [
            "60000 train samples\n",
            "10000 test samples\n"
          ],
          "name": "stdout"
        }
      ]
    },
    {
      "cell_type": "code",
      "metadata": {
        "id": "X0IhekObW8C_",
        "colab_type": "code",
        "colab": {}
      },
      "source": [
        "# Build the model.\n",
        "model = tf.keras.models.Sequential()\n",
        "model.add(keras.layers.Dense(NB_CLASSES,\n",
        "   input_shape=(RESHAPED,),\n",
        "   name='dense_layer', \n",
        "   activation='softmax'))"
      ],
      "execution_count": 0,
      "outputs": []
    },
    {
      "cell_type": "code",
      "metadata": {
        "id": "uZCJaZe8XDVW",
        "colab_type": "code",
        "colab": {}
      },
      "source": [
        "# Compiling the model.\n",
        "model.compile(optimizer='SGD', \n",
        "              loss='categorical_crossentropy',\n",
        "              metrics=['accuracy'])"
      ],
      "execution_count": 0,
      "outputs": []
    },
    {
      "cell_type": "code",
      "metadata": {
        "id": "hSESo_ogXH3k",
        "colab_type": "code",
        "colab": {}
      },
      "source": [
        "# Training the model.\n",
        "model.fit(X_train, Y_train,\n",
        "               batch_size=BATCH_SIZE, epochs=EPOCHS,\n",
        "               verbose=VERBOSE, validation_split=VALIDATION_SPLIT)"
      ],
      "execution_count": 0,
      "outputs": []
    },
    {
      "cell_type": "code",
      "metadata": {
        "id": "n1HLqEc2XK2T",
        "colab_type": "code",
        "colab": {
          "base_uri": "https://localhost:8080/",
          "height": 51
        },
        "outputId": "5a735071-df89-4b89-e248-227d900944e7"
      },
      "source": [
        "#evaluate the model\n",
        "test_loss, test_acc = model.evaluate(X_test, Y_test)\n",
        "print('Test accuracy:', test_acc)"
      ],
      "execution_count": 11,
      "outputs": [
        {
          "output_type": "stream",
          "text": [
            "313/313 [==============================] - 0s 1ms/step - loss: 0.2770 - accuracy: 0.9222\n",
            "Test accuracy: 0.9222000241279602\n"
          ],
          "name": "stdout"
        }
      ]
    },
    {
      "cell_type": "markdown",
      "metadata": {
        "id": "mMeLFgAeblxx",
        "colab_type": "text"
      },
      "source": [
        "# Improving the simple net with hidden layers"
      ]
    },
    {
      "cell_type": "code",
      "metadata": {
        "id": "JiP7bjegXVX0",
        "colab_type": "code",
        "colab": {}
      },
      "source": [
        "model = tf.keras.models.Sequential()\n",
        "model.add(keras.layers.Dense(N_HIDDEN,\n",
        "          input_shape=(RESHAPED,),\n",
        "          name='dense_layer', activation='relu'))\n",
        "model.add(keras.layers.Dense(N_HIDDEN,\n",
        "          name='dense_layer_2', activation='relu'))\n",
        "model.add(keras.layers.Dense(NB_CLASSES,\n",
        "          name='dense_layer_3', activation='softmax'))\n",
        "# Summary of the model.\n",
        "model.summary()\n",
        "# Compiling the model.\n",
        "model.compile(optimizer='SGD', \n",
        "              loss='categorical_crossentropy',\n",
        "              metrics=['accuracy'])\n",
        "\n"
      ],
      "execution_count": 0,
      "outputs": []
    },
    {
      "cell_type": "code",
      "metadata": {
        "id": "VDNVvTuXdrTI",
        "colab_type": "code",
        "colab": {}
      },
      "source": [
        "# Training the model.\n",
        "model.fit(X_train, Y_train,\n",
        "          batch_size=BATCH_SIZE, epochs=EPOCHS,\n",
        "          verbose=VERBOSE, validation_split=VALIDATION_SPLIT)"
      ],
      "execution_count": 0,
      "outputs": []
    },
    {
      "cell_type": "code",
      "metadata": {
        "id": "fAd4ja1WdoVo",
        "colab_type": "code",
        "colab": {}
      },
      "source": [
        "# Evaluating the model.\n",
        "test_loss, test_acc = model.evaluate(X_test, Y_test)\n",
        "print('Test accuracy:', test_acc)"
      ],
      "execution_count": 0,
      "outputs": []
    },
    {
      "cell_type": "markdown",
      "metadata": {
        "id": "Z-Rh6vlvdSZb",
        "colab_type": "text"
      },
      "source": [
        "# Further improving the simple net with Dropout"
      ]
    },
    {
      "cell_type": "code",
      "metadata": {
        "id": "cZD6BhVib7kL",
        "colab_type": "code",
        "colab": {
          "base_uri": "https://localhost:8080/",
          "height": 323
        },
        "outputId": "a561075a-d4aa-42bd-c13f-9180c2e4ae17"
      },
      "source": [
        "\n",
        "# Network and training.\n",
        "DROPOUT = 0.3\n",
        "\n",
        "# Building the model.\n",
        "model = tf.keras.models.Sequential()\n",
        "model.add(keras.layers.Dense(N_HIDDEN,\n",
        "          input_shape=(RESHAPED,),\n",
        "          name='dense_layer', activation='relu'))\n",
        "model.add(keras.layers.Dropout(DROPOUT))\n",
        "model.add(keras.layers.Dense(N_HIDDEN,\n",
        "          name='dense_layer_2', activation='relu'))\n",
        "model.add(keras.layers.Dropout(DROPOUT))\n",
        "model.add(keras.layers.Dense(NB_CLASSES,\n",
        "          name='dense_layer_3', activation='softmax'))\n",
        "# Summary of the model.\n",
        "model.summary()\n",
        "# Compiling the model.\n",
        "model.compile(optimizer='SGD', \n",
        "              loss='categorical_crossentropy',\n",
        "              metrics=['accuracy'])"
      ],
      "execution_count": 13,
      "outputs": [
        {
          "output_type": "stream",
          "text": [
            "Model: \"sequential_4\"\n",
            "_________________________________________________________________\n",
            "Layer (type)                 Output Shape              Param #   \n",
            "=================================================================\n",
            "dense_layer (Dense)          (None, 128)               100480    \n",
            "_________________________________________________________________\n",
            "dropout (Dropout)            (None, 128)               0         \n",
            "_________________________________________________________________\n",
            "dense_layer_2 (Dense)        (None, 128)               16512     \n",
            "_________________________________________________________________\n",
            "dropout_1 (Dropout)          (None, 128)               0         \n",
            "_________________________________________________________________\n",
            "dense_layer_3 (Dense)        (None, 10)                1290      \n",
            "=================================================================\n",
            "Total params: 118,282\n",
            "Trainable params: 118,282\n",
            "Non-trainable params: 0\n",
            "_________________________________________________________________\n"
          ],
          "name": "stdout"
        }
      ]
    },
    {
      "cell_type": "code",
      "metadata": {
        "id": "y2Oyc7Qid4fm",
        "colab_type": "code",
        "colab": {}
      },
      "source": [
        "# Training the model.\n",
        "model.fit(X_train, Y_train,\n",
        "          batch_size=BATCH_SIZE, epochs=EPOCHS,\n",
        "          verbose=VERBOSE, validation_split=VALIDATION_SPLIT)"
      ],
      "execution_count": 0,
      "outputs": []
    },
    {
      "cell_type": "code",
      "metadata": {
        "id": "NoJXImHYd3IJ",
        "colab_type": "code",
        "colab": {
          "base_uri": "https://localhost:8080/",
          "height": 51
        },
        "outputId": "25d13e16-2423-4fb5-82e1-35454c3befd3"
      },
      "source": [
        "# Evaluating the model.\n",
        "test_loss, test_acc = model.evaluate(X_test, Y_test)\n",
        "print('Test accuracy:', test_acc)"
      ],
      "execution_count": 15,
      "outputs": [
        {
          "output_type": "stream",
          "text": [
            "313/313 [==============================] - 0s 1ms/step - loss: 0.0766 - accuracy: 0.9773\n",
            "Test accuracy: 0.9772999882698059\n"
          ],
          "name": "stdout"
        }
      ]
    },
    {
      "cell_type": "code",
      "metadata": {
        "id": "kbfIp6Dod7zI",
        "colab_type": "code",
        "colab": {}
      },
      "source": [
        ""
      ],
      "execution_count": 0,
      "outputs": []
    }
  ]
}