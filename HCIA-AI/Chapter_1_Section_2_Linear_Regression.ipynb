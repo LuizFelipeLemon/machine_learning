{
  "nbformat": 4,
  "nbformat_minor": 0,
  "metadata": {
    "colab": {
      "name": "Chapter 1 - Section 2 - Linear Regression.ipynb",
      "provenance": [],
      "include_colab_link": true
    },
    "kernelspec": {
      "name": "python3",
      "display_name": "Python 3"
    }
  },
  "cells": [
    {
      "cell_type": "markdown",
      "metadata": {
        "id": "view-in-github",
        "colab_type": "text"
      },
      "source": [
        "<a href=\"https://colab.research.google.com/github/LuizFelipeLemon/machine_learning/blob/master/HCIA-AI/Chapter_1_Section_2_Linear_Regression.ipynb\" target=\"_parent\"><img src=\"https://colab.research.google.com/assets/colab-badge.svg\" alt=\"Open In Colab\"/></a>"
      ]
    },
    {
      "cell_type": "markdown",
      "metadata": {
        "id": "9z3qtRrHVQPw"
      },
      "source": [
        "# 2 Details of linear regression"
      ]
    },
    {
      "cell_type": "markdown",
      "metadata": {
        "id": "XilDk8SIwge5"
      },
      "source": [
        "\n",
        "## 2.1 Introduction\n",
        "\n",
        "\n",
        "\n"
      ]
    },
    {
      "cell_type": "markdown",
      "metadata": {
        "id": "RhioARRQQuXO"
      },
      "source": [
        "### 2.1.1 About This Experiment\n",
        "This experiment mainly uses basic Python code and the simplest data to reproduce how a linear regression algorithm iterates and fits the existing data distribution step by step.\n",
        "\n",
        "The experiment mainly used Numpy module and Matplotlib module. Numpy for calculation, Matplotlib for drawing."
      ]
    },
    {
      "cell_type": "markdown",
      "metadata": {
        "id": "Q-pXUBRLQn_5"
      },
      "source": [
        "### 2.1.2 Objectives\n",
        "\n",
        "The main purpose of this experiment is as follows.\n",
        "- Familiar with basic Python statements\n",
        "- Master the implementation steps of linear regression"
      ]
    },
    {
      "cell_type": "markdown",
      "metadata": {
        "id": "_aDND1zDx8CB"
      },
      "source": [
        "## 2.2 Experiment Code"
      ]
    },
    {
      "cell_type": "markdown",
      "metadata": {
        "id": "23zNytGhx4j_"
      },
      "source": [
        "\n",
        "\n",
        "###2.2.1 Data Preparation\n",
        "\n",
        "10 data were randomly set, and the data were in a linear relationship.\n",
        "\n",
        "The data is converted to array format so that it can be computed directly when multiplication and addition are used."
      ]
    },
    {
      "cell_type": "code",
      "metadata": {
        "id": "jUiOiON3b4yN",
        "colab": {
          "base_uri": "https://localhost:8080/",
          "height": 282
        },
        "outputId": "94686ac7-a57b-4165-9f03-dcf6db02af57"
      },
      "source": [
        "#Import the required modules, numpy for calculation, and Matplotlib for drawing import numpy as np\n",
        "import numpy as np\n",
        "import matplotlib.pyplot as plt\n",
        "\n",
        "# define data, and change list to array \n",
        "x = [3,21,22,34,54,34,55,67,89,99]\n",
        "x = np.array(x)\n",
        "y = [1,10,14,34,44,36,22,67,79,90] \n",
        "y = np.array(y)\n",
        "\n",
        "#Show the effect of a scatter plot\n",
        "plt.scatter(x,y)"
      ],
      "execution_count": null,
      "outputs": [
        {
          "output_type": "execute_result",
          "data": {
            "text/plain": [
              "<matplotlib.collections.PathCollection at 0x7f1b1d90b390>"
            ]
          },
          "metadata": {
            "tags": []
          },
          "execution_count": 2
        },
        {
          "output_type": "display_data",
          "data": {
            "image/png": "[encoded data removed]",
            "text/plain": [
              "<Figure size 432x288 with 1 Axes>"
            ]
          },
          "metadata": {
            "tags": [],
            "needs_background": "light"
          }
        }
      ]
    },
    {
      "cell_type": "markdown",
      "metadata": {
        "id": "13k4KbKcxQAE"
      },
      "source": [
        "### 2.2.2 Define related functions\n"
      ]
    },
    {
      "cell_type": "markdown",
      "metadata": {
        "id": "sePR6KvIdGYq"
      },
      "source": [
        "### Model function\n",
        "Defines a linear regression model wx+b.\n"
      ]
    },
    {
      "cell_type": "code",
      "metadata": {
        "id": "_GZUqkQmraVl"
      },
      "source": [
        "#The basic linear regression model is wx+ b, and since this is a two-dimensional space, the model is ax+ b\n",
        "def model(a, b, x): \n",
        "  return a*x + b"
      ],
      "execution_count": null,
      "outputs": []
    },
    {
      "cell_type": "markdown",
      "metadata": {
        "id": "wc36YVTodJfc"
      },
      "source": [
        "### Loss function\n",
        "Loss function of Mean square error.\n",
        "\n"
      ]
    },
    {
      "cell_type": "code",
      "metadata": {
        "id": "D0eImv66c5Ni"
      },
      "source": [
        "#The most commonly used loss function of linear regression model is the loss function of mean variance difference\n",
        "def loss_function(a, b, x, y):\n",
        "  num = len(x)\n",
        "  prediction=model(a,b,x)\n",
        "  \n",
        "  #square error function = cost function\n",
        "  return (0.5/num) * (np.square(prediction-y)).sum()"
      ],
      "execution_count": null,
      "outputs": []
    },
    {
      "cell_type": "markdown",
      "metadata": {
        "id": "uu0_0Pd9dN_8"
      },
      "source": [
        "### Optimization function\n",
        "Gradient descent method to find partial derivatives of w and b."
      ]
    },
    {
      "cell_type": "code",
      "metadata": {
        "id": "JfTpwZBhc8iZ"
      },
      "source": [
        "#The optimization function mainly USES partial derivatives to update two parameters a and b \n",
        "def optimize(a,b,x,y):\n",
        "  num = len(x)\n",
        "  prediction = model(a,b,x)\n",
        "\n",
        "  #Update the values of A and B by finding the partial derivatives of the loss function on a and b \n",
        "  da = (1.0/num) * ((prediction -y)*x).sum()\n",
        "  db = (1.0/num) * ((prediction -y).sum())\n",
        "  \n",
        "  #Lr= Learning Rate\n",
        "  a = a - Lr*da\n",
        "  b = b - Lr*db \n",
        "  return a, b\n",
        "\n",
        "#iterated function, return a and b \n",
        "def iterate(a,b,x,y,times):\n",
        "  for i in range(times):\n",
        "    a,b = optimize(a,b,x,y)\n",
        "  return a,b"
      ],
      "execution_count": null,
      "outputs": []
    },
    {
      "cell_type": "markdown",
      "metadata": {
        "id": "VJ3t-9G8xaZA"
      },
      "source": [
        "### 2.2.3 Start the iteration\n",
        "Initialization and Iterative optimization model"
      ]
    },
    {
      "cell_type": "code",
      "metadata": {
        "id": "520_FyHOr41S",
        "colab": {
          "base_uri": "https://localhost:8080/",
          "height": 333
        },
        "outputId": "8e9c33b1-75e3-4cd9-a892-187ff9ef376b"
      },
      "source": [
        "#Initialize parameters and display\n",
        "a = np.random.rand(1)\n",
        "b = np.random.rand(1)\n",
        "Lr = 1e-4\n",
        "\n",
        "#For the first iteration, the parameter values, losses, and visualization after the iteration are displayed a,b = iterate(a,b,x,y,1)\n",
        "prediction=model(a,b,x)\n",
        "loss = loss_function(a, b, x, y) \n",
        "print(\"a: \", a)\n",
        "print(\"b: \",b)\n",
        "print(\"loss: \",loss)\n",
        "plt.scatter(x,y) \n",
        "plt.plot(x,prediction)  "
      ],
      "execution_count": null,
      "outputs": [
        {
          "output_type": "stream",
          "text": [
            "a:  [0.77472113]\n",
            "b:  [0.89396891]\n",
            "loss:  54.89004408806526\n"
          ],
          "name": "stdout"
        },
        {
          "output_type": "execute_result",
          "data": {
            "text/plain": [
              "[<matplotlib.lines.Line2D at 0x7f1b1d8e7748>]"
            ]
          },
          "metadata": {
            "tags": []
          },
          "execution_count": 7
        },
        {
          "output_type": "display_data",
          "data": {
            "image/png": "[encoded data removed]",
            "text/plain": [
              "<Figure size 432x288 with 1 Axes>"
            ]
          },
          "metadata": {
            "tags": [],
            "needs_background": "light"
          }
        }
      ]
    },
    {
      "cell_type": "markdown",
      "metadata": {
        "id": "K5aqIJ8fjVmu"
      },
      "source": [
        "To make the predicted value close to the actual value, we need to minimize the loss value. We can use the\n",
        "gradient descent method to calculate the weight parameter w when the loss function reaches the minimum,\n",
        "and then complete model building."
      ]
    },
    {
      "cell_type": "code",
      "metadata": {
        "id": "dO7Jmqx2s4eJ",
        "colab": {
          "base_uri": "https://localhost:8080/",
          "height": 333
        },
        "outputId": "ec02e663-d1a8-4508-a023-e08f8edf81c0"
      },
      "source": [
        "#In the second iteration, the parameter values, loss values and visualization effects after the iteration are displayed\n",
        "a,b = iterate(a,b,x,y,2) \n",
        "prediction=model(a,b,x)\n",
        "loss = loss_function(a, b, x, y) \n",
        "print(\"a: \", a)\n",
        "print(\"b: \",b)\n",
        "print(\"loss: \",loss)\n",
        "plt.scatter(x,y) \n",
        "plt.plot(x,prediction)"
      ],
      "execution_count": null,
      "outputs": [
        {
          "output_type": "stream",
          "text": [
            "a:  [0.81122242]\n",
            "b:  [0.89422028]\n",
            "loss:  49.07919398010978\n"
          ],
          "name": "stdout"
        },
        {
          "output_type": "execute_result",
          "data": {
            "text/plain": [
              "[<matplotlib.lines.Line2D at 0x7f1b1d431f60>]"
            ]
          },
          "metadata": {
            "tags": []
          },
          "execution_count": 8
        },
        {
          "output_type": "display_data",
          "data": {
            "image/png": "[encoded data removed]",
            "text/plain": [
              "<Figure size 432x288 with 1 Axes>"
            ]
          },
          "metadata": {
            "tags": [],
            "needs_background": "light"
          }
        }
      ]
    },
    {
      "cell_type": "code",
      "metadata": {
        "id": "aQMy6nMUtcyR",
        "colab": {
          "base_uri": "https://localhost:8080/",
          "height": 333
        },
        "outputId": "0b04c742-5ec4-4647-d4a1-02311b4ae614"
      },
      "source": [
        "#In the fourth iteration, parameter values, loss values and visualization effects are displayed\n",
        "a,b = iterate(a,b,x,y,4) \n",
        "prediction=model(a,b,x)\n",
        "loss = loss_function(a, b, x, y) \n",
        "print(\"a: \", a)\n",
        "print(\"b: \",b)\n",
        "print(\"loss: \",loss)\n",
        "plt.scatter(x,y) \n",
        "plt.plot(x,prediction)"
      ],
      "execution_count": null,
      "outputs": [
        {
          "output_type": "stream",
          "text": [
            "a:  [0.80537745]\n",
            "b:  [0.84772812]\n",
            "loss:  49.74374871711522\n"
          ],
          "name": "stdout"
        },
        {
          "output_type": "execute_result",
          "data": {
            "text/plain": [
              "[<matplotlib.lines.Line2D at 0x7fc2fb2bfc18>]"
            ]
          },
          "metadata": {
            "tags": []
          },
          "execution_count": 7
        },
        {
          "output_type": "display_data",
          "data": {
            "image/png": "[encoded data removed]",
            "text/plain": [
              "<Figure size 432x288 with 1 Axes>"
            ]
          },
          "metadata": {
            "tags": [],
            "needs_background": "light"
          }
        }
      ]
    },
    {
      "cell_type": "code",
      "metadata": {
        "id": "Hca97qqKuWMr",
        "colab": {
          "base_uri": "https://localhost:8080/",
          "height": 333
        },
        "outputId": "762a7099-6800-4203-d7e6-84e27e3ae28d"
      },
      "source": [
        "#The fifth iteration shows the parameter value, loss value and visualization effect after iteration \n",
        "a,b = iterate(a,b,x,y,5)\n",
        "prediction=model(a,b,x)\n",
        "loss = loss_function(a, b, x, y)\n",
        "print(\"a: \", a)\n",
        "print(\"b: \",b)\n",
        "print(\"loss: \",loss)\n",
        "plt.scatter(x,y) \n",
        "plt.plot(x,prediction)"
      ],
      "execution_count": null,
      "outputs": [
        {
          "output_type": "stream",
          "text": [
            "a:  [0.83874167]\n",
            "b:  [0.89387841]\n",
            "loss:  47.463990015266255\n"
          ],
          "name": "stdout"
        },
        {
          "output_type": "execute_result",
          "data": {
            "text/plain": [
              "[<matplotlib.lines.Line2D at 0x7f1b1d3793c8>]"
            ]
          },
          "metadata": {
            "tags": []
          },
          "execution_count": 9
        },
        {
          "output_type": "display_data",
          "data": {
            "image/png": "[encoded data removed]",
            "text/plain": [
              "<Figure size 432x288 with 1 Axes>"
            ]
          },
          "metadata": {
            "tags": [],
            "needs_background": "light"
          }
        }
      ]
    },
    {
      "cell_type": "code",
      "metadata": {
        "id": "QEfjF9RWuh9T",
        "colab": {
          "base_uri": "https://localhost:8080/",
          "height": 350
        },
        "outputId": "3adf3714-e59a-4d46-f687-0bcf40336bb5"
      },
      "source": [
        "#The 10000th iteration, showing the parameter values, losses and visualization after iteration \n",
        "a,b = iterate(a,b,x,y,10000)\n",
        "prediction=model(a,b,x)\n",
        "loss = loss_function(a, b, x, y)\n",
        "print(\"a: \", a)\n",
        "print(\"b: \",b)\n",
        "print(\"loss: \",loss)\n",
        "print(a,b,loss) \n",
        "plt.scatter(x,y) \n",
        "plt.plot(x,prediction)"
      ],
      "execution_count": null,
      "outputs": [
        {
          "output_type": "stream",
          "text": [
            "a:  [0.86448143]\n",
            "b:  [-0.47314384]\n",
            "loss:  45.60017903946015\n",
            "[0.86448143] [-0.47314384] 45.60017903946015\n"
          ],
          "name": "stdout"
        },
        {
          "output_type": "execute_result",
          "data": {
            "text/plain": [
              "[<matplotlib.lines.Line2D at 0x7fc2fb1a1ba8>]"
            ]
          },
          "metadata": {
            "tags": []
          },
          "execution_count": 9
        },
        {
          "output_type": "display_data",
          "data": {
            "image/png": "[encoded data removed]",
            "text/plain": [
              "<Figure size 432x288 with 1 Axes>"
            ]
          },
          "metadata": {
            "tags": [],
            "needs_background": "light"
          }
        }
      ]
    },
    {
      "cell_type": "markdown",
      "metadata": {
        "id": "dr22W-EKvEd_"
      },
      "source": [
        "## 2.3 Thinking and practice\n"
      ]
    },
    {
      "cell_type": "markdown",
      "metadata": {
        "id": "IxzDIs92xxt2"
      },
      "source": [
        "### 2.3.1 Question 1\n",
        "Try to modify the original data yourself, Think about it: Does the loss value have to go to zero?"
      ]
    },
    {
      "cell_type": "code",
      "metadata": {
        "id": "w1zjbeKLvKve"
      },
      "source": [
        "#Code here"
      ],
      "execution_count": null,
      "outputs": []
    },
    {
      "cell_type": "markdown",
      "metadata": {
        "id": "LW-5FhobvQMZ"
      },
      "source": [
        "### 2.3.2 Question 2\n",
        "Modify the values of Lr. Think: What is the role of the Lr parameter?"
      ]
    },
    {
      "cell_type": "code",
      "metadata": {
        "id": "cLLPEcvSvUfr"
      },
      "source": [
        "#Code here\n",
        "#Insert as a comment the answer"
      ],
      "execution_count": null,
      "outputs": []
    }
  ]
}