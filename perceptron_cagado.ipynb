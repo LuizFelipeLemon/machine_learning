{
  "nbformat": 4,
  "nbformat_minor": 0,
  "metadata": {
    "colab": {
      "name": "Untitled3.ipynb",
      "version": "0.3.2",
      "provenance": [],
      "include_colab_link": true
    },
    "kernelspec": {
      "name": "python3",
      "display_name": "Python 3"
    }
  },
  "cells": [
    {
      "cell_type": "markdown",
      "metadata": {
        "id": "view-in-github",
        "colab_type": "text"
      },
      "source": [
        "[View in Colaboratory](https://colab.research.google.com/github/LuizFelipeLemon/machine_learning/blob/master/perceptron_cagado.ipynb)"
      ]
    },
    {
      "metadata": {
        "id": "s5Lm4cHNZ8Pf",
        "colab_type": "code",
        "colab": {
          "base_uri": "https://localhost:8080/",
          "height": 85
        },
        "outputId": "c108c870-5eff-4e5b-e16c-e7f88a77b9c5"
      },
      "cell_type": "code",
      "source": [
        "import numpy as np\n",
        "\n",
        "#x =np.matrix('0 0 1; 1 1 0')\n",
        "x = [[0,0,1],[1,1,0]]\n",
        "d = [-1,1]\n",
        "\n",
        "#print(len(x))\n",
        "w = [0.4, -0.6, 0.6]\n",
        "\n",
        "teta = 0.5\n",
        "\n",
        "#Start Training\n",
        "\n",
        "\n",
        "\n",
        "for i in range(len(x)):\n",
        "  print(\"i:\", i,d[i])\n",
        "  m = np.multiply(x[i],w)\n",
        "  u = np.sum(m) - 1*teta\n",
        "  #print(u)\n",
        "\n",
        "  if u >= 0:\n",
        "    y = 1\n",
        "  else:\n",
        "    y = -1\n",
        "    \n",
        " \n",
        "  for j in range(len(w)):\n",
        "    w[j] = w[j] + 0.4*x[i][j]*(d[i] - y)\n",
        "  \n",
        "  e = d[i] - y\n",
        "  teta = teta + 0.4*(-1)*e  \n",
        "\n",
        "  print(w,teta)\n",
        "  \n",
        "\n",
        "\n"
      ],
      "execution_count": 62,
      "outputs": [
        {
          "output_type": "stream",
          "text": [
            "i: 0 -1\n",
            "[0.4, -0.6, -0.20000000000000007] 1.3\n",
            "i: 1 1\n",
            "[1.2000000000000002, 0.20000000000000007, -0.20000000000000007] 0.5\n"
          ],
          "name": "stdout"
        }
      ]
    }
  ]
}