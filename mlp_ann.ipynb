{
  "nbformat": 4,
  "nbformat_minor": 0,
  "metadata": {
    "colab": {
      "name": "mlp_ann.ipynb",
      "version": "0.3.2",
      "provenance": [],
      "include_colab_link": true
    },
    "kernelspec": {
      "name": "python3",
      "display_name": "Python 3"
    }
  },
  "cells": [
    {
      "cell_type": "markdown",
      "metadata": {
        "id": "view-in-github",
        "colab_type": "text"
      },
      "source": [
        "[View in Colaboratory](https://colab.research.google.com/github/LuizFelipeLemon/machine_learning/blob/master/mlp_ann.ipynb)"
      ]
    },
    {
      "metadata": {
        "id": "05prIRvREx5w",
        "colab_type": "code",
        "colab": {}
      },
      "cell_type": "code",
      "source": [
        "# Artificial Neural Network\n",
        "# from https://www.superdatascience.com/machine-learning/ \n",
        "\n",
        "# Installing Theano\n",
        "# pip install --upgrade --no-deps git+git://github.com/Theano/Theano.git\n",
        "\n",
        "# Installing Tensorflow\n",
        "# Install Tensorflow from the website: https://www.tensorflow.org/versions/r0.12/get_started/os_setup.html\n",
        "\n",
        "# Installing Keras\n",
        "# pip install --upgrade keras\n",
        "\n",
        "# Part 1 - Data Preprocessing\n",
        "\n",
        "# Importing the libraries\n",
        "import numpy as np\n",
        "import matplotlib.pyplot as plt\n",
        "import pandas as pd"
      ],
      "execution_count": 0,
      "outputs": []
    },
    {
      "metadata": {
        "id": "9Pz5xpoxrYqo",
        "colab_type": "code",
        "colab": {}
      },
      "cell_type": "code",
      "source": [
        "print(\"Teste\")"
      ],
      "execution_count": 0,
      "outputs": []
    },
    {
      "metadata": {
        "id": "Azdpya1yGBi7",
        "colab_type": "code",
        "colab": {}
      },
      "cell_type": "code",
      "source": [
        "import os\n",
        "import tarfile\n",
        "from six.moves import urllib\n",
        "\n",
        "FILE_TO_DOWNLOAD =  \"Churn_Modelling.csv\"\n",
        "DOWNLOAD_ROOT = \"https://github.com/ect-info/ml/raw/master/\"\n",
        "DATA_PATH = \"dados/\"\n",
        "DATA_URL = DOWNLOAD_ROOT + DATA_PATH + FILE_TO_DOWNLOAD\n",
        "\n",
        "def fetch_data(data_url=DATA_URL, data_path=DATA_PATH, file_to_download=FILE_TO_DOWNLOAD):\n",
        "  if not os.path.isdir(data_path):\n",
        "    os.makedirs(data_path)\n",
        "  urllib.request.urlretrieve(data_url, data_path+file_to_download)\n",
        "  \n",
        "  \n",
        "fetch_data()\n",
        "\n",
        "# observando se o diretório datasets foi criado com sucesso \n",
        "!ls dados"
      ],
      "execution_count": 0,
      "outputs": []
    },
    {
      "metadata": {
        "id": "3ty937PWG8mp",
        "colab_type": "code",
        "colab": {}
      },
      "cell_type": "code",
      "source": [
        "# Importing the dataset\n",
        "dataset = pd.read_csv(DATA_PATH+'Churn_Modelling.csv')\n",
        "\n",
        "\n",
        "dataset.head(  )"
      ],
      "execution_count": 0,
      "outputs": []
    },
    {
      "metadata": {
        "id": "UB5JIxNDHb_N",
        "colab_type": "code",
        "colab": {}
      },
      "cell_type": "code",
      "source": [
        "X = dataset.iloc[:,[3,6,7,8,9,10,11,12]].values\n",
        "y = dataset.iloc[:, 13].values\n",
        "\n",
        "print(X[0:6,:])"
      ],
      "execution_count": 0,
      "outputs": []
    },
    {
      "metadata": {
        "id": "cfUAv8EkIR3L",
        "colab_type": "code",
        "colab": {}
      },
      "cell_type": "code",
      "source": [
        "# Splitting the dataset into the Training set and Test set\n",
        "from sklearn.model_selection import train_test_split\n",
        "X_train, X_test, y_train, y_test = train_test_split(X, y, test_size = 0.2, random_state = 0)"
      ],
      "execution_count": 0,
      "outputs": []
    },
    {
      "metadata": {
        "id": "h8r8fqguIVwD",
        "colab_type": "code",
        "colab": {}
      },
      "cell_type": "code",
      "source": [
        "# Feature Scaling\n",
        "from sklearn.preprocessing import StandardScaler\n",
        "sc = StandardScaler()\n",
        "X_train = sc.fit_transform(X_train)\n",
        "X_test = sc.transform(X_test)"
      ],
      "execution_count": 0,
      "outputs": []
    },
    {
      "metadata": {
        "id": "uopU5LIeIfcR",
        "colab_type": "code",
        "colab": {}
      },
      "cell_type": "code",
      "source": [
        "# Part 2 - Now let's make the ANN!\n",
        "\n",
        "# Importing the Keras libraries and packages\n",
        "import keras\n",
        "from keras.models import Sequential\n",
        "from keras.layers import Dense\n",
        "\n",
        "# Initialising the ANN\n",
        "classifier = Sequential()"
      ],
      "execution_count": 0,
      "outputs": []
    },
    {
      "metadata": {
        "id": "0MfRhISVImRN",
        "colab_type": "code",
        "colab": {}
      },
      "cell_type": "code",
      "source": [
        "# Adding the input layer and the first hidden layer\n",
        "classifier.add(Dense( activation = 'relu', input_dim = 8, units = 16, kernel_initializer = 'uniform'))\n",
        "\n",
        "# Adding the second hidden layer\n",
        "classifier.add(Dense( activation = 'relu', units = 6, kernel_initializer = 'uniform' ))\n",
        "\n",
        "# Adding the output layer\n",
        "classifier.add(Dense( activation = 'sigmoid', units = 1, kernel_initializer = 'uniform'))"
      ],
      "execution_count": 0,
      "outputs": []
    },
    {
      "metadata": {
        "id": "AKQhs9A7P_8l",
        "colab_type": "code",
        "colab": {}
      },
      "cell_type": "code",
      "source": [
        "\n",
        "# Compiling the ANN\n",
        "classifier.compile(optimizer = 'adam', loss = 'binary_crossentropy', metrics = ['accuracy'])\n"
      ],
      "execution_count": 0,
      "outputs": []
    },
    {
      "metadata": {
        "id": "0P1F8Fe4QF8w",
        "colab_type": "code",
        "colab": {}
      },
      "cell_type": "code",
      "source": [
        "# Fitting the ANN to the Training set\n",
        "classifier.fit(X_train, y_train, batch_size = 10, epochs = 40)\n",
        "\n",
        "\n",
        "\n"
      ],
      "execution_count": 0,
      "outputs": []
    },
    {
      "metadata": {
        "id": "IWx3PyWZSkpF",
        "colab_type": "code",
        "colab": {
          "base_uri": "https://localhost:8080/",
          "height": 34
        },
        "outputId": "0cf1a5cb-f03f-4db4-a3b6-055cd3668fee"
      },
      "cell_type": "code",
      "source": [
        "# Part 3 - Making the predictions and evaluating the model\n",
        "\n",
        "# Predicting the Test set results\n",
        "y_pred = classifier.predict(X_test)\n",
        "y_pred = (y_pred > 0.5)\n",
        "\n",
        "# Making the Confusion Matrix\n",
        "from sklearn.metrics import confusion_matrix\n",
        "cm = confusion_matrix(y_test, y_pred)\n",
        "\n",
        "weights = classifier.layers[0].get_weights()[0]\n",
        "biases = classifier.layers[0].get_weights()[1]\n",
        "\n",
        "print(len(biases))\n",
        "\n",
        "#print(biases)"
      ],
      "execution_count": 61,
      "outputs": [
        {
          "output_type": "stream",
          "text": [
            "16\n"
          ],
          "name": "stdout"
        }
      ]
    },
    {
      "metadata": {
        "id": "Y2W85-LdSsiU",
        "colab_type": "code",
        "colab": {}
      },
      "cell_type": "code",
      "source": [
        "print(\"Matriz de Confusão:\")\n",
        "print(cm)\n",
        "print(\"Taxa de acerto:\")\n",
        "print((cm[0,0]+cm[1,1])/len(y_test) )\n",
        "print(len(y_test))\n",
        "\n",
        "\n"
      ],
      "execution_count": 0,
      "outputs": []
    },
    {
      "metadata": {
        "id": "D_MCzYCP19Av",
        "colab_type": "code",
        "colab": {
          "base_uri": "https://localhost:8080/",
          "height": 663
        },
        "outputId": "c74815be-f718-4686-80b5-fe370ea34a57"
      },
      "cell_type": "code",
      "source": [
        "f= open(\"weights.txt\",\"w+\")\n",
        "\n",
        "for i in range(3):\n",
        "  luiz = np.array2string(classifier.layers[i].get_weights()[0], precision=4, separator=',',suppress_small=True)\n",
        "  print(luiz)\n",
        "  f.write(luiz)\n",
        "f.close() \n"
      ],
      "execution_count": 59,
      "outputs": [
        {
          "output_type": "stream",
          "text": [
            "[[ 0.0585, 0.0336,-0.0336, 0.0758,-0.1867, 0.2311,-0.1109, 0.0529, 0.0157,\n",
            "  -0.0849, 0.0293, 0.0762, 0.0192, 0.0385, 0.0139, 0.0768],\n",
            " [-0.5537,-0.4017, 0.2264,-0.1911,-0.316 , 0.118 , 0.8542,-0.1014,-0.3814,\n",
            "  -0.4506,-0.3634,-0.4083,-0.4014,-0.3819,-0.4146,-0.5571],\n",
            " [-0.1031,-0.0513, 0.0146,-0.1249, 0.1546, 0.0411, 0.1125, 0.0332,-0.0138,\n",
            "  -0.1332,-0.0125,-0.1109, 0.0043,-0.0227,-0.0079,-0.0719],\n",
            " [ 0.0406,-0.0457,-0.0767,-0.2056,-0.1478, 0.1755,-0.1551,-0.6533, 0.0128,\n",
            "  -0.0878,-0.0235, 0.072 , 0.0267,-0.051 , 0.0278, 0.0385],\n",
            " [ 1.3106,-0.0771,-0.0398,-0.9217, 0.2253, 0.0286, 0.9423, 0.5323,-0.0356,\n",
            "   0.0507,-0.0531,-0.2108,-0.0295,-0.0688,-0.0347,-0.0108],\n",
            " [ 0.0303,-0.0064, 0.0662, 0.0141,-0.1557, 0.2253,-0.0703, 0.0164, 0.032 ,\n",
            "  -0.1672, 0.0181, 0.1032, 0.0399, 0.0198, 0.0108, 0.0037],\n",
            " [ 0.4433,-0.069 , 0.8168,-0.2844, 0.281 , 0.573 , 0.0241, 0.1646,-0.1113,\n",
            "   0.081 ,-0.1133, 0.0125,-0.1019,-0.1223,-0.1072, 0.1335],\n",
            " [-0.0326, 0.0681, 0.0408, 0.1251,-0.3677, 0.0053,-0.126 , 0.0336,-0.0153,\n",
            "  -0.059 ,-0.0151, 0.1458,-0.004 , 0.0234,-0.0142, 0.1561]]\n",
            "[[ 0.2457, 0.2048,-0.048 , 0.0113, 1.3786, 0.1762],\n",
            " [ 0.2865, 0.2612,-0.0135,-0.0237,-0.3383, 0.3297],\n",
            " [ 0.0641, 0.0485,-0.0489,-0.0727,-1.1133, 0.0567],\n",
            " [-0.5429,-0.548 ,-0.026 ,-0.0284, 0.8881,-0.5053],\n",
            " [ 0.3358, 0.3809,-0.0144,-0.035 ,-0.0516, 0.3465],\n",
            " [ 0.3731, 0.305 , 0.0224, 0.0086,-0.2676, 0.3545],\n",
            " [ 0.739 , 0.6858,-0.0536,-0.0357, 0.4652, 0.7636],\n",
            " [ 0.8458, 0.7637, 0.0035,-0.0488,-0.3712, 0.7773],\n",
            " [ 0.2021, 0.2529,-0.0416,-0.0726,-0.3725, 0.2878],\n",
            " [ 0.1694, 0.2006,-0.0129,-0.0728,-0.5394, 0.2056],\n",
            " [ 0.2115, 0.1771,-0.0334,-0.0821,-0.4087, 0.1769],\n",
            " [ 0.1998, 0.2711,-0.0138,-0.0653,-0.1708, 0.252 ],\n",
            " [ 0.3142, 0.2484,-0.0041,-0.0145,-0.442 , 0.3427],\n",
            " [ 0.2872, 0.219 , 0.0173,-0.024 ,-0.3739, 0.2873],\n",
            " [ 0.264 , 0.2842,-0.0208,-0.0063,-0.3796, 0.3205],\n",
            " [ 0.4693, 0.5   , 0.0271,-0.0068, 0.0287, 0.4481]]\n",
            "[[-0.3821],\n",
            " [-0.3855],\n",
            " [ 0.023 ],\n",
            " [ 0.0114],\n",
            " [ 2.1878],\n",
            " [-0.3875]]\n"
          ],
          "name": "stdout"
        }
      ]
    },
    {
      "metadata": {
        "id": "5V2ssMLOAGYQ",
        "colab_type": "code",
        "colab": {
          "base_uri": "https://localhost:8080/",
          "height": 629
        },
        "outputId": "77ea7b0e-8408-4aa1-b578-5546626a53b9"
      },
      "cell_type": "code",
      "source": [
        "f=open(\"weights.txt\", \"r\")\n",
        "if f.mode == 'r':\n",
        "  contents =f.read()\n",
        "  print(contents)"
      ],
      "execution_count": 58,
      "outputs": [
        {
          "output_type": "stream",
          "text": [
            "[[ 0.0585, 0.0336,-0.0336, 0.0758,-0.1867, 0.2311,-0.1109, 0.0529, 0.0157,\n",
            "  -0.0849, 0.0293, 0.0762, 0.0192, 0.0385, 0.0139, 0.0768],\n",
            " [-0.5537,-0.4017, 0.2264,-0.1911,-0.316 , 0.118 , 0.8542,-0.1014,-0.3814,\n",
            "  -0.4506,-0.3634,-0.4083,-0.4014,-0.3819,-0.4146,-0.5571],\n",
            " [-0.1031,-0.0513, 0.0146,-0.1249, 0.1546, 0.0411, 0.1125, 0.0332,-0.0138,\n",
            "  -0.1332,-0.0125,-0.1109, 0.0043,-0.0227,-0.0079,-0.0719],\n",
            " [ 0.0406,-0.0457,-0.0767,-0.2056,-0.1478, 0.1755,-0.1551,-0.6533, 0.0128,\n",
            "  -0.0878,-0.0235, 0.072 , 0.0267,-0.051 , 0.0278, 0.0385],\n",
            " [ 1.3106,-0.0771,-0.0398,-0.9217, 0.2253, 0.0286, 0.9423, 0.5323,-0.0356,\n",
            "   0.0507,-0.0531,-0.2108,-0.0295,-0.0688,-0.0347,-0.0108],\n",
            " [ 0.0303,-0.0064, 0.0662, 0.0141,-0.1557, 0.2253,-0.0703, 0.0164, 0.032 ,\n",
            "  -0.1672, 0.0181, 0.1032, 0.0399, 0.0198, 0.0108, 0.0037],\n",
            " [ 0.4433,-0.069 , 0.8168,-0.2844, 0.281 , 0.573 , 0.0241, 0.1646,-0.1113,\n",
            "   0.081 ,-0.1133, 0.0125,-0.1019,-0.1223,-0.1072, 0.1335],\n",
            " [-0.0326, 0.0681, 0.0408, 0.1251,-0.3677, 0.0053,-0.126 , 0.0336,-0.0153,\n",
            "  -0.059 ,-0.0151, 0.1458,-0.004 , 0.0234,-0.0142, 0.1561]][[ 0.2457, 0.2048,-0.048 , 0.0113, 1.3786, 0.1762],\n",
            " [ 0.2865, 0.2612,-0.0135,-0.0237,-0.3383, 0.3297],\n",
            " [ 0.0641, 0.0485,-0.0489,-0.0727,-1.1133, 0.0567],\n",
            " [-0.5429,-0.548 ,-0.026 ,-0.0284, 0.8881,-0.5053],\n",
            " [ 0.3358, 0.3809,-0.0144,-0.035 ,-0.0516, 0.3465],\n",
            " [ 0.3731, 0.305 , 0.0224, 0.0086,-0.2676, 0.3545],\n",
            " [ 0.739 , 0.6858,-0.0536,-0.0357, 0.4652, 0.7636],\n",
            " [ 0.8458, 0.7637, 0.0035,-0.0488,-0.3712, 0.7773],\n",
            " [ 0.2021, 0.2529,-0.0416,-0.0726,-0.3725, 0.2878],\n",
            " [ 0.1694, 0.2006,-0.0129,-0.0728,-0.5394, 0.2056],\n",
            " [ 0.2115, 0.1771,-0.0334,-0.0821,-0.4087, 0.1769],\n",
            " [ 0.1998, 0.2711,-0.0138,-0.0653,-0.1708, 0.252 ],\n",
            " [ 0.3142, 0.2484,-0.0041,-0.0145,-0.442 , 0.3427],\n",
            " [ 0.2872, 0.219 , 0.0173,-0.024 ,-0.3739, 0.2873],\n",
            " [ 0.264 , 0.2842,-0.0208,-0.0063,-0.3796, 0.3205],\n",
            " [ 0.4693, 0.5   , 0.0271,-0.0068, 0.0287, 0.4481]][[-0.3821],\n",
            " [-0.3855],\n",
            " [ 0.023 ],\n",
            " [ 0.0114],\n",
            " [ 2.1878],\n",
            " [-0.3875]]\n"
          ],
          "name": "stdout"
        }
      ]
    }
  ]
}