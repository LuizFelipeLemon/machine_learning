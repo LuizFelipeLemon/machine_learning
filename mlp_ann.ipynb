{
  "nbformat": 4,
  "nbformat_minor": 0,
  "metadata": {
    "colab": {
      "name": "mlp_ann.ipynb",
      "version": "0.3.2",
      "provenance": [],
      "include_colab_link": true
    },
    "kernelspec": {
      "name": "python3",
      "display_name": "Python 3"
    }
  },
  "cells": [
    {
      "cell_type": "markdown",
      "metadata": {
        "id": "view-in-github",
        "colab_type": "text"
      },
      "source": [
        "[View in Colaboratory](https://colab.research.google.com/github/LuizFelipeLemon/machine_learning/blob/master/mlp_ann.ipynb)"
      ]
    },
    {
      "metadata": {
        "id": "05prIRvREx5w",
        "colab_type": "code",
        "colab": {}
      },
      "cell_type": "code",
      "source": [
        "# Artificial Neural Network\n",
        "# from https://www.superdatascience.com/machine-learning/ \n",
        "\n",
        "# Installing Theano\n",
        "# pip install --upgrade --no-deps git+git://github.com/Theano/Theano.git\n",
        "\n",
        "# Installing Tensorflow\n",
        "# Install Tensorflow from the website: https://www.tensorflow.org/versions/r0.12/get_started/os_setup.html\n",
        "\n",
        "# Installing Keras\n",
        "# pip install --upgrade keras\n",
        "\n",
        "# Part 1 - Data Preprocessing\n",
        "\n",
        "# Importing the libraries\n",
        "import numpy as np\n",
        "import matplotlib.pyplot as plt\n",
        "import pandas as pd"
      ],
      "execution_count": 0,
      "outputs": []
    },
    {
      "metadata": {
        "id": "9Pz5xpoxrYqo",
        "colab_type": "code",
        "colab": {
          "base_uri": "https://localhost:8080/",
          "height": 34
        },
        "outputId": "85da1170-84e3-4673-f6e8-bdea041a86c7"
      },
      "cell_type": "code",
      "source": [
        "print(\"Teste\")"
      ],
      "execution_count": 0,
      "outputs": [
        {
          "output_type": "stream",
          "text": [
            "Teste\n"
          ],
          "name": "stdout"
        }
      ]
    },
    {
      "metadata": {
        "id": "Azdpya1yGBi7",
        "colab_type": "code",
        "colab": {
          "base_uri": "https://localhost:8080/",
          "height": 34
        },
        "outputId": "4fe684bc-2e65-4baf-9073-aaa6f5018998"
      },
      "cell_type": "code",
      "source": [
        "import os\n",
        "import tarfile\n",
        "from six.moves import urllib\n",
        "\n",
        "FILE_TO_DOWNLOAD =  \"Churn_Modelling.csv\"\n",
        "DOWNLOAD_ROOT = \"https://github.com/ect-info/ml/raw/master/\"\n",
        "DATA_PATH = \"dados/\"\n",
        "DATA_URL = DOWNLOAD_ROOT + DATA_PATH + FILE_TO_DOWNLOAD\n",
        "\n",
        "def fetch_data(data_url=DATA_URL, data_path=DATA_PATH, file_to_download=FILE_TO_DOWNLOAD):\n",
        "  if not os.path.isdir(data_path):\n",
        "    os.makedirs(data_path)\n",
        "  urllib.request.urlretrieve(data_url, data_path+file_to_download)\n",
        "  \n",
        "  \n",
        "fetch_data()\n",
        "\n",
        "# observando se o diretório datasets foi criado com sucesso \n",
        "!ls dados"
      ],
      "execution_count": 0,
      "outputs": [
        {
          "output_type": "stream",
          "text": [
            "Churn_Modelling.csv\r\n"
          ],
          "name": "stdout"
        }
      ]
    },
    {
      "metadata": {
        "id": "3ty937PWG8mp",
        "colab_type": "code",
        "colab": {
          "base_uri": "https://localhost:8080/",
          "height": 195
        },
        "outputId": "51536a7f-6eec-4a94-a906-9c331b6e900d"
      },
      "cell_type": "code",
      "source": [
        "# Importing the dataset\n",
        "dataset = pd.read_csv(DATA_PATH+'Churn_Modelling.csv')\n",
        "\n",
        "\n",
        "dataset.head(  )"
      ],
      "execution_count": 0,
      "outputs": [
        {
          "output_type": "execute_result",
          "data": {
            "text/html": [
              "<div>\n",
              "<style scoped>\n",
              "    .dataframe tbody tr th:only-of-type {\n",
              "        vertical-align: middle;\n",
              "    }\n",
              "\n",
              "    .dataframe tbody tr th {\n",
              "        vertical-align: top;\n",
              "    }\n",
              "\n",
              "    .dataframe thead th {\n",
              "        text-align: right;\n",
              "    }\n",
              "</style>\n",
              "<table border=\"1\" class=\"dataframe\">\n",
              "  <thead>\n",
              "    <tr style=\"text-align: right;\">\n",
              "      <th></th>\n",
              "      <th>RowNumber</th>\n",
              "      <th>CustomerId</th>\n",
              "      <th>Surname</th>\n",
              "      <th>CreditScore</th>\n",
              "      <th>Geography</th>\n",
              "      <th>Gender</th>\n",
              "      <th>Age</th>\n",
              "      <th>Tenure</th>\n",
              "      <th>Balance</th>\n",
              "      <th>NumOfProducts</th>\n",
              "      <th>HasCrCard</th>\n",
              "      <th>IsActiveMember</th>\n",
              "      <th>EstimatedSalary</th>\n",
              "      <th>Exited</th>\n",
              "    </tr>\n",
              "  </thead>\n",
              "  <tbody>\n",
              "    <tr>\n",
              "      <th>0</th>\n",
              "      <td>1</td>\n",
              "      <td>15634602</td>\n",
              "      <td>Hargrave</td>\n",
              "      <td>619</td>\n",
              "      <td>France</td>\n",
              "      <td>Female</td>\n",
              "      <td>42</td>\n",
              "      <td>2</td>\n",
              "      <td>0.00</td>\n",
              "      <td>1</td>\n",
              "      <td>1</td>\n",
              "      <td>1</td>\n",
              "      <td>101348.88</td>\n",
              "      <td>1</td>\n",
              "    </tr>\n",
              "    <tr>\n",
              "      <th>1</th>\n",
              "      <td>2</td>\n",
              "      <td>15647311</td>\n",
              "      <td>Hill</td>\n",
              "      <td>608</td>\n",
              "      <td>Spain</td>\n",
              "      <td>Female</td>\n",
              "      <td>41</td>\n",
              "      <td>1</td>\n",
              "      <td>83807.86</td>\n",
              "      <td>1</td>\n",
              "      <td>0</td>\n",
              "      <td>1</td>\n",
              "      <td>112542.58</td>\n",
              "      <td>0</td>\n",
              "    </tr>\n",
              "    <tr>\n",
              "      <th>2</th>\n",
              "      <td>3</td>\n",
              "      <td>15619304</td>\n",
              "      <td>Onio</td>\n",
              "      <td>502</td>\n",
              "      <td>France</td>\n",
              "      <td>Female</td>\n",
              "      <td>42</td>\n",
              "      <td>8</td>\n",
              "      <td>159660.80</td>\n",
              "      <td>3</td>\n",
              "      <td>1</td>\n",
              "      <td>0</td>\n",
              "      <td>113931.57</td>\n",
              "      <td>1</td>\n",
              "    </tr>\n",
              "    <tr>\n",
              "      <th>3</th>\n",
              "      <td>4</td>\n",
              "      <td>15701354</td>\n",
              "      <td>Boni</td>\n",
              "      <td>699</td>\n",
              "      <td>France</td>\n",
              "      <td>Female</td>\n",
              "      <td>39</td>\n",
              "      <td>1</td>\n",
              "      <td>0.00</td>\n",
              "      <td>2</td>\n",
              "      <td>0</td>\n",
              "      <td>0</td>\n",
              "      <td>93826.63</td>\n",
              "      <td>0</td>\n",
              "    </tr>\n",
              "    <tr>\n",
              "      <th>4</th>\n",
              "      <td>5</td>\n",
              "      <td>15737888</td>\n",
              "      <td>Mitchell</td>\n",
              "      <td>850</td>\n",
              "      <td>Spain</td>\n",
              "      <td>Female</td>\n",
              "      <td>43</td>\n",
              "      <td>2</td>\n",
              "      <td>125510.82</td>\n",
              "      <td>1</td>\n",
              "      <td>1</td>\n",
              "      <td>1</td>\n",
              "      <td>79084.10</td>\n",
              "      <td>0</td>\n",
              "    </tr>\n",
              "  </tbody>\n",
              "</table>\n",
              "</div>"
            ],
            "text/plain": [
              "   RowNumber  CustomerId   Surname  CreditScore Geography  Gender  Age  \\\n",
              "0          1    15634602  Hargrave          619    France  Female   42   \n",
              "1          2    15647311      Hill          608     Spain  Female   41   \n",
              "2          3    15619304      Onio          502    France  Female   42   \n",
              "3          4    15701354      Boni          699    France  Female   39   \n",
              "4          5    15737888  Mitchell          850     Spain  Female   43   \n",
              "\n",
              "   Tenure    Balance  NumOfProducts  HasCrCard  IsActiveMember  \\\n",
              "0       2       0.00              1          1               1   \n",
              "1       1   83807.86              1          0               1   \n",
              "2       8  159660.80              3          1               0   \n",
              "3       1       0.00              2          0               0   \n",
              "4       2  125510.82              1          1               1   \n",
              "\n",
              "   EstimatedSalary  Exited  \n",
              "0        101348.88       1  \n",
              "1        112542.58       0  \n",
              "2        113931.57       1  \n",
              "3         93826.63       0  \n",
              "4         79084.10       0  "
            ]
          },
          "metadata": {
            "tags": []
          },
          "execution_count": 52
        }
      ]
    },
    {
      "metadata": {
        "id": "UB5JIxNDHb_N",
        "colab_type": "code",
        "colab": {
          "base_uri": "https://localhost:8080/",
          "height": 218
        },
        "outputId": "85b28697-74de-4be4-85f3-c2f71842bd8f"
      },
      "cell_type": "code",
      "source": [
        "X = dataset.iloc[:,[3,6,7,8,9,10,11,12]].values\n",
        "y = dataset.iloc[:, 13].values\n",
        "\n",
        "print(X[0:6,:])"
      ],
      "execution_count": 0,
      "outputs": [
        {
          "output_type": "stream",
          "text": [
            "[[6.1900000e+02 4.2000000e+01 2.0000000e+00 0.0000000e+00 1.0000000e+00\n",
            "  1.0000000e+00 1.0000000e+00 1.0134888e+05]\n",
            " [6.0800000e+02 4.1000000e+01 1.0000000e+00 8.3807860e+04 1.0000000e+00\n",
            "  0.0000000e+00 1.0000000e+00 1.1254258e+05]\n",
            " [5.0200000e+02 4.2000000e+01 8.0000000e+00 1.5966080e+05 3.0000000e+00\n",
            "  1.0000000e+00 0.0000000e+00 1.1393157e+05]\n",
            " [6.9900000e+02 3.9000000e+01 1.0000000e+00 0.0000000e+00 2.0000000e+00\n",
            "  0.0000000e+00 0.0000000e+00 9.3826630e+04]\n",
            " [8.5000000e+02 4.3000000e+01 2.0000000e+00 1.2551082e+05 1.0000000e+00\n",
            "  1.0000000e+00 1.0000000e+00 7.9084100e+04]\n",
            " [6.4500000e+02 4.4000000e+01 8.0000000e+00 1.1375578e+05 2.0000000e+00\n",
            "  1.0000000e+00 0.0000000e+00 1.4975671e+05]]\n"
          ],
          "name": "stdout"
        }
      ]
    },
    {
      "metadata": {
        "id": "cfUAv8EkIR3L",
        "colab_type": "code",
        "colab": {}
      },
      "cell_type": "code",
      "source": [
        "# Splitting the dataset into the Training set and Test set\n",
        "from sklearn.model_selection import train_test_split\n",
        "X_train, X_test, y_train, y_test = train_test_split(X, y, test_size = 0.2, random_state = 0)"
      ],
      "execution_count": 0,
      "outputs": []
    },
    {
      "metadata": {
        "id": "h8r8fqguIVwD",
        "colab_type": "code",
        "colab": {}
      },
      "cell_type": "code",
      "source": [
        "# Feature Scaling\n",
        "from sklearn.preprocessing import StandardScaler\n",
        "sc = StandardScaler()\n",
        "X_train = sc.fit_transform(X_train)\n",
        "X_test = sc.transform(X_test)"
      ],
      "execution_count": 0,
      "outputs": []
    },
    {
      "metadata": {
        "id": "uopU5LIeIfcR",
        "colab_type": "code",
        "colab": {}
      },
      "cell_type": "code",
      "source": [
        "# Part 2 - Now let's make the ANN!\n",
        "\n",
        "# Importing the Keras libraries and packages\n",
        "import keras\n",
        "from keras.models import Sequential\n",
        "from keras.layers import Dense\n",
        "\n",
        "# Initialising the ANN\n",
        "classifier = Sequential()"
      ],
      "execution_count": 0,
      "outputs": []
    },
    {
      "metadata": {
        "id": "0MfRhISVImRN",
        "colab_type": "code",
        "colab": {}
      },
      "cell_type": "code",
      "source": [
        "# Adding the input layer and the first hidden layer\n",
        "classifier.add(Dense( activation = 'relu', input_dim = 8, units = 16, kernel_initializer = 'uniform'))\n",
        "\n",
        "# Adding the second hidden layer\n",
        "classifier.add(Dense( activation = 'relu', units = 6, kernel_initializer = 'uniform' ))\n",
        "\n",
        "# Adding the output layer\n",
        "classifier.add(Dense( activation = 'sigmoid', units = 1, kernel_initializer = 'uniform'))"
      ],
      "execution_count": 0,
      "outputs": []
    },
    {
      "metadata": {
        "id": "AKQhs9A7P_8l",
        "colab_type": "code",
        "colab": {}
      },
      "cell_type": "code",
      "source": [
        "\n",
        "# Compiling the ANN\n",
        "classifier.compile(optimizer = 'adam', loss = 'binary_crossentropy', metrics = ['accuracy'])\n"
      ],
      "execution_count": 0,
      "outputs": []
    },
    {
      "metadata": {
        "id": "0P1F8Fe4QF8w",
        "colab_type": "code",
        "colab": {
          "base_uri": "https://localhost:8080/",
          "height": 1378
        },
        "outputId": "81f4c2a3-b431-4154-9118-c86b6b4bbf3a"
      },
      "cell_type": "code",
      "source": [
        "# Fitting the ANN to the Training set\n",
        "classifier.fit(X_train, y_train, batch_size = 10, epochs = 40)\n",
        "\n",
        "weights = classifier.layers[0].get_weights()[0]\n",
        "biases = classifier.layers[0].get_weights()[1]\n",
        "\n"
      ],
      "execution_count": 0,
      "outputs": [
        {
          "output_type": "stream",
          "text": [
            "Epoch 1/40\n",
            "8000/8000 [==============================] - 1s 97us/step - loss: 0.5472 - acc: 0.7934\n",
            "Epoch 2/40\n",
            "8000/8000 [==============================] - 0s 51us/step - loss: 0.4365 - acc: 0.7994\n",
            "Epoch 3/40\n",
            "8000/8000 [==============================] - 0s 51us/step - loss: 0.4294 - acc: 0.8166\n",
            "Epoch 4/40\n",
            "8000/8000 [==============================] - 0s 52us/step - loss: 0.4242 - acc: 0.8245\n",
            "Epoch 5/40\n",
            "8000/8000 [==============================] - 0s 50us/step - loss: 0.4195 - acc: 0.8267\n",
            "Epoch 6/40\n",
            "8000/8000 [==============================] - 0s 52us/step - loss: 0.4165 - acc: 0.8282\n",
            "Epoch 7/40\n",
            "8000/8000 [==============================] - 0s 51us/step - loss: 0.4138 - acc: 0.8295\n",
            "Epoch 8/40\n",
            "8000/8000 [==============================] - 0s 50us/step - loss: 0.4119 - acc: 0.8322\n",
            "Epoch 9/40\n",
            "8000/8000 [==============================] - 0s 53us/step - loss: 0.4099 - acc: 0.8310\n",
            "Epoch 10/40\n",
            "8000/8000 [==============================] - 0s 50us/step - loss: 0.4084 - acc: 0.8314\n",
            "Epoch 11/40\n",
            "8000/8000 [==============================] - 0s 51us/step - loss: 0.4072 - acc: 0.8297\n",
            "Epoch 12/40\n",
            "8000/8000 [==============================] - 0s 50us/step - loss: 0.4056 - acc: 0.8317\n",
            "Epoch 13/40\n",
            "8000/8000 [==============================] - 0s 50us/step - loss: 0.4039 - acc: 0.8329\n",
            "Epoch 14/40\n",
            "8000/8000 [==============================] - 0s 51us/step - loss: 0.4017 - acc: 0.8315\n",
            "Epoch 15/40\n",
            "8000/8000 [==============================] - 0s 52us/step - loss: 0.3978 - acc: 0.8342\n",
            "Epoch 16/40\n",
            "8000/8000 [==============================] - 0s 50us/step - loss: 0.3934 - acc: 0.8350\n",
            "Epoch 17/40\n",
            "8000/8000 [==============================] - 0s 53us/step - loss: 0.3866 - acc: 0.8371\n",
            "Epoch 18/40\n",
            "8000/8000 [==============================] - 0s 50us/step - loss: 0.3784 - acc: 0.8414\n",
            "Epoch 19/40\n",
            "8000/8000 [==============================] - 0s 53us/step - loss: 0.3717 - acc: 0.8449\n",
            "Epoch 20/40\n",
            "8000/8000 [==============================] - 0s 53us/step - loss: 0.3661 - acc: 0.8474\n",
            "Epoch 21/40\n",
            "8000/8000 [==============================] - 0s 51us/step - loss: 0.3627 - acc: 0.8489\n",
            "Epoch 22/40\n",
            "8000/8000 [==============================] - 0s 52us/step - loss: 0.3592 - acc: 0.8507\n",
            "Epoch 23/40\n",
            "8000/8000 [==============================] - 0s 49us/step - loss: 0.3572 - acc: 0.8519\n",
            "Epoch 24/40\n",
            "8000/8000 [==============================] - 0s 51us/step - loss: 0.3571 - acc: 0.8510\n",
            "Epoch 25/40\n",
            "8000/8000 [==============================] - 0s 51us/step - loss: 0.3557 - acc: 0.8539\n",
            "Epoch 26/40\n",
            "8000/8000 [==============================] - 0s 51us/step - loss: 0.3553 - acc: 0.8534\n",
            "Epoch 27/40\n",
            "8000/8000 [==============================] - 0s 51us/step - loss: 0.3549 - acc: 0.8549\n",
            "Epoch 28/40\n",
            "8000/8000 [==============================] - 0s 52us/step - loss: 0.3542 - acc: 0.8545\n",
            "Epoch 29/40\n",
            "8000/8000 [==============================] - 0s 50us/step - loss: 0.3540 - acc: 0.8536\n",
            "Epoch 30/40\n",
            "8000/8000 [==============================] - 0s 51us/step - loss: 0.3529 - acc: 0.8542\n",
            "Epoch 31/40\n",
            "8000/8000 [==============================] - 0s 50us/step - loss: 0.3530 - acc: 0.8546\n",
            "Epoch 32/40\n",
            "8000/8000 [==============================] - 0s 51us/step - loss: 0.3525 - acc: 0.8536\n",
            "Epoch 33/40\n",
            "8000/8000 [==============================] - 0s 50us/step - loss: 0.3530 - acc: 0.8532\n",
            "Epoch 34/40\n",
            "8000/8000 [==============================] - 0s 50us/step - loss: 0.3533 - acc: 0.8537\n",
            "Epoch 35/40\n",
            "8000/8000 [==============================] - 0s 48us/step - loss: 0.3523 - acc: 0.8562\n",
            "Epoch 36/40\n",
            "8000/8000 [==============================] - 0s 50us/step - loss: 0.3518 - acc: 0.8540\n",
            "Epoch 37/40\n",
            "8000/8000 [==============================] - 0s 50us/step - loss: 0.3519 - acc: 0.8532\n",
            "Epoch 38/40\n",
            "8000/8000 [==============================] - 0s 51us/step - loss: 0.3518 - acc: 0.8550\n",
            "Epoch 39/40\n",
            "8000/8000 [==============================] - 0s 52us/step - loss: 0.3514 - acc: 0.8555\n",
            "Epoch 40/40\n",
            "8000/8000 [==============================] - 0s 51us/step - loss: 0.3516 - acc: 0.8552\n"
          ],
          "name": "stdout"
        },
        {
          "output_type": "execute_result",
          "data": {
            "text/plain": [
              "<keras.callbacks.History at 0x7f4000430828>"
            ]
          },
          "metadata": {
            "tags": []
          },
          "execution_count": 59
        }
      ]
    },
    {
      "metadata": {
        "id": "IWx3PyWZSkpF",
        "colab_type": "code",
        "colab": {
          "base_uri": "https://localhost:8080/",
          "height": 231
        },
        "outputId": "2145a2e6-6461-4652-f101-802957b643b0"
      },
      "cell_type": "code",
      "source": [
        "# Part 3 - Making the predictions and evaluating the model\n",
        "\n",
        "# Predicting the Test set results\n",
        "y_pred = classifier.predict(X_test)\n",
        "y_pred = (y_pred > 0.5)\n",
        "\n",
        "# Making the Confusion Matrix\n",
        "from sklearn.metrics import confusion_matrix\n",
        "cm = confusion_matrix(y_test, y_pred)\n",
        "\n",
        "print(weights)"
      ],
      "execution_count": 1,
      "outputs": [
        {
          "output_type": "error",
          "ename": "NameError",
          "evalue": "ignored",
          "traceback": [
            "\u001b[0;31m---------------------------------------------------------------------------\u001b[0m",
            "\u001b[0;31mNameError\u001b[0m                                 Traceback (most recent call last)",
            "\u001b[0;32m<ipython-input-1-e42a313a3bf4>\u001b[0m in \u001b[0;36m<module>\u001b[0;34m()\u001b[0m\n\u001b[0;32m----> 1\u001b[0;31m \u001b[0my_pred\u001b[0m \u001b[0;34m=\u001b[0m \u001b[0mclassifier\u001b[0m\u001b[0;34m.\u001b[0m\u001b[0mpredict\u001b[0m\u001b[0;34m(\u001b[0m\u001b[0mX_test\u001b[0m\u001b[0;34m)\u001b[0m\u001b[0;34m\u001b[0m\u001b[0m\n\u001b[0m\u001b[1;32m      2\u001b[0m \u001b[0my_pred\u001b[0m \u001b[0;34m=\u001b[0m \u001b[0;34m(\u001b[0m\u001b[0my_pred\u001b[0m \u001b[0;34m>\u001b[0m \u001b[0;36m0.5\u001b[0m\u001b[0;34m)\u001b[0m\u001b[0;34m\u001b[0m\u001b[0m\n\u001b[1;32m      3\u001b[0m \u001b[0;34m\u001b[0m\u001b[0m\n\u001b[1;32m      4\u001b[0m \u001b[0;31m# Making the Confusion Matrix\u001b[0m\u001b[0;34m\u001b[0m\u001b[0;34m\u001b[0m\u001b[0m\n\u001b[1;32m      5\u001b[0m \u001b[0;32mfrom\u001b[0m \u001b[0msklearn\u001b[0m\u001b[0;34m.\u001b[0m\u001b[0mmetrics\u001b[0m \u001b[0;32mimport\u001b[0m \u001b[0mconfusion_matrix\u001b[0m\u001b[0;34m\u001b[0m\u001b[0m\n",
            "\u001b[0;31mNameError\u001b[0m: name 'classifier' is not defined"
          ]
        }
      ]
    },
    {
      "metadata": {
        "id": "Y2W85-LdSsiU",
        "colab_type": "code",
        "colab": {
          "base_uri": "https://localhost:8080/",
          "height": 118
        },
        "outputId": "d179d2ec-0818-44a3-b9cb-152db577db41"
      },
      "cell_type": "code",
      "source": [
        "print(\"Matriz de Confusão:\")\n",
        "print(cm)\n",
        "print(\"Taxa de acerto:\")\n",
        "print((cm[0,0]+cm[1,1])/len(y_test) )\n",
        "print(len(y_test))\n",
        "\n",
        "\n"
      ],
      "execution_count": 0,
      "outputs": [
        {
          "output_type": "stream",
          "text": [
            "Matriz de Confusão:\n",
            "[[1553   42]\n",
            " [ 241  164]]\n",
            "Taxa de acerto:\n",
            "0.8585\n",
            "2000\n"
          ],
          "name": "stdout"
        }
      ]
    },
    {
      "metadata": {
        "id": "D_MCzYCP19Av",
        "colab_type": "code",
        "colab": {}
      },
      "cell_type": "code",
      "source": [
        ""
      ],
      "execution_count": 0,
      "outputs": []
    }
  ]
}